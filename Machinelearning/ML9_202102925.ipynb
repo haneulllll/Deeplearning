{
  "nbformat": 4,
  "nbformat_minor": 0,
  "metadata": {
    "colab": {
      "provenance": []
    },
    "kernelspec": {
      "name": "python3",
      "display_name": "Python 3"
    },
    "language_info": {
      "name": "python"
    }
  },
  "cells": [
    {
      "cell_type": "code",
      "source": [
        "from google.colab import drive\n",
        "drive.mount('/content/drive', force_remount=True)"
      ],
      "metadata": {
        "colab": {
          "base_uri": "https://localhost:8080/"
        },
        "id": "7amuggnmbQBd",
        "outputId": "01844760-5c08-4ec1-de9d-befc596cfb13"
      },
      "execution_count": 1,
      "outputs": [
        {
          "output_type": "stream",
          "name": "stdout",
          "text": [
            "Mounted at /content/drive\n"
          ]
        }
      ]
    },
    {
      "cell_type": "code",
      "source": [
        "import pandas as pd\n",
        "import numpy as np\n",
        "from sklearn.model_selection import train_test_split\n",
        "from sklearn.metrics import accuracy_score\n",
        "\n",
        "path = './drive/MyDrive/ML2024/'\n",
        "filename = 'Banknote.csv'\n",
        "\n",
        "data_pd = pd.read_csv(path + filename)\n",
        "data = data_pd.values"
      ],
      "metadata": {
        "id": "pPPjgJX0yxkY"
      },
      "execution_count": 6,
      "outputs": []
    },
    {
      "cell_type": "markdown",
      "source": [
        "**독립변수(4개의 input)와 종속변수(0,1) 설정**"
      ],
      "metadata": {
        "id": "XapPMfEzy3-r"
      }
    },
    {
      "cell_type": "code",
      "source": [
        "x = data[:, :-1]\n",
        "y = data[:, -1]"
      ],
      "metadata": {
        "id": "4l4Xhy1ayukY"
      },
      "execution_count": 8,
      "outputs": []
    },
    {
      "cell_type": "markdown",
      "source": [
        "**data를 훈련데이터와 테스트데이터로 분할**"
      ],
      "metadata": {
        "id": "QvYbSLV4zlmK"
      }
    },
    {
      "cell_type": "code",
      "source": [
        "x_train, x_test, y_train, y_test = train_test_split(x, y, test_size=0.2, random_state=0, shuffle=True, stratify=y)"
      ],
      "metadata": {
        "id": "Do5Tq13Zy3lH"
      },
      "execution_count": 9,
      "outputs": []
    },
    {
      "cell_type": "markdown",
      "source": [
        "**다변량 선형회귀모델 구현**"
      ],
      "metadata": {
        "id": "HhX7zCjxyuCj"
      }
    },
    {
      "cell_type": "code",
      "source": [
        "learning_rate = 0.3\n",
        "learning_iteration = 1000\n",
        "\n",
        "# 회귀식\n",
        "def h(x, weights, bias):\n",
        "  return np.dot(x, weights) + bias\n",
        "\n",
        "# 학습과정\n",
        "def train_linear(x_train, y_train, x_test, y_test):\n",
        "  n_samples, n_features = x_train.shape\n",
        "  weights = np.ones(n_features)\n",
        "  bias = 1.0\n",
        "\n",
        "  print(\"[Linear Regression]\")\n",
        "\n",
        "  for i in range(learning_iteration):\n",
        "    # 예측값 구하기\n",
        "    y_predicted_train = h(x_train, weights, bias)\n",
        "\n",
        "    # 에러 구하기\n",
        "    error = y_predicted_train - y_train\n",
        "\n",
        "    # weight와 bias 업데이트\n",
        "    weights -= learning_rate * (error[:, np.newaxis] * x_train).mean(axis=0)\n",
        "    bias -= learning_rate * error.mean()\n",
        "\n",
        "    if (i + 1) % 100 == 0:\n",
        "      y_pred_train_class = predict_threshold(x_train, weights, bias)\n",
        "      train_accuracy = np.mean(y_pred_train_class == y_train)\n",
        "      print(f\"epochs {i + 1} TRAIN ACC: {train_accuracy:.6f}\")\n",
        "\n",
        "  return weights, bias\n",
        "\n",
        "# 데이터 예측값 반환\n",
        "def predict_linear(x, weights, bias):\n",
        "  return np.dot(x, weights) + bias\n",
        "\n",
        "def predict_threshold(x, weights, bias):\n",
        "  y_predicted = predict_linear(x, weights, bias)\n",
        "  y_predicted_class = []\n",
        "\n",
        "  # 예측값이 0.5보다 크면 1, 작으면 0을 반환\n",
        "  for i in y_predicted:\n",
        "    if i > 0.5:\n",
        "      y_predicted_class.append(1)\n",
        "    else:\n",
        "      y_predicted_class.append(0)\n",
        "\n",
        "  return y_predicted_class\n",
        "\n",
        "# 모델 학습\n",
        "weights, bias = train_linear(x_train, y_train, x_test, y_test)\n",
        "\n",
        "y_pred_test = predict_threshold(x_test, weights, bias) # 테스트 데이터 대상 예측수행\n",
        "test_accuracy = np.mean(y_pred_test == y_test) # 정확도 계산\n",
        "print(f\"TEST ACC: {test_accuracy:.6f}\")\n"
      ],
      "metadata": {
        "colab": {
          "base_uri": "https://localhost:8080/"
        },
        "id": "lQgJzzpsztj6",
        "outputId": "dc37d67b-e9b6-45ef-dc4f-51a5253b0728"
      },
      "execution_count": 19,
      "outputs": [
        {
          "output_type": "stream",
          "name": "stdout",
          "text": [
            "[Linear Regression]\n",
            "epochs 100 TRAIN ACC: 0.373747\n",
            "epochs 200 TRAIN ACC: 0.373747\n",
            "epochs 300 TRAIN ACC: 0.555150\n",
            "epochs 400 TRAIN ACC: 0.555150\n",
            "epochs 500 TRAIN ACC: 0.555150\n",
            "epochs 600 TRAIN ACC: 0.555150\n",
            "epochs 700 TRAIN ACC: 0.555150\n",
            "epochs 800 TRAIN ACC: 0.555150\n",
            "epochs 900 TRAIN ACC: 0.555150\n",
            "epochs 1000 TRAIN ACC: 0.555150\n",
            "TEST ACC: 0.556364\n"
          ]
        },
        {
          "output_type": "stream",
          "name": "stderr",
          "text": [
            "/usr/local/lib/python3.10/dist-packages/numpy/core/_methods.py:118: RuntimeWarning: overflow encountered in reduce\n",
            "  ret = umr_sum(arr, axis, dtype, out, keepdims, where=where)\n",
            "/usr/local/lib/python3.10/dist-packages/numpy/core/_methods.py:118: RuntimeWarning: invalid value encountered in reduce\n",
            "  ret = umr_sum(arr, axis, dtype, out, keepdims, where=where)\n"
          ]
        }
      ]
    },
    {
      "cell_type": "markdown",
      "source": [
        "**다변량 로지스틱 회귀모델 구현**"
      ],
      "metadata": {
        "id": "nUoUsFK69Ft-"
      }
    },
    {
      "cell_type": "code",
      "source": [
        "learning_rate = 0.3\n",
        "learning_iteration = 1000\n",
        "\n",
        "# 시그모이드 함수(활성화 함수) : 0과 1 사이의 확률값을 반환\n",
        "def sigmoid(z):\n",
        "  return 1 / (1 + np.exp(-z))\n",
        "\n",
        "def h(x, weights, bias):\n",
        "  # 활성화함수(시그모이드) 적용한 회귀식\n",
        "  return sigmoid(np.dot(x, weights) + bias)\n",
        "\n",
        "# 학습과정\n",
        "def train_sigmoid(x_train, y_train, x_test, y_test):\n",
        "  n_samples, n_features = x_train.shape\n",
        "  weights = np.ones(n_features)\n",
        "  bias = 1.0\n",
        "\n",
        "  print(\"[Logistic Regression]\")\n",
        "\n",
        "  for i in range(learning_iteration):\n",
        "    # 예측값 구하기\n",
        "    y_predicted_train = h(x_train, weights, bias)\n",
        "\n",
        "    # 에러 구하기\n",
        "    error = y_predicted_train - y_train\n",
        "\n",
        "    # weights와 bias 업데이트\n",
        "    weights -= learning_rate * (error[:, np.newaxis] * x_train).mean(axis=0)\n",
        "    bias -= learning_rate * error.mean()\n",
        "\n",
        "    # 100번마다 훈련 데이터의 정확도 출력\n",
        "    if (i + 1) % 100 == 0:\n",
        "      y_pred_train_class = predict_threshold(x_train, weights, bias)\n",
        "      train_accuracy = np.mean(y_pred_train_class == y_train)\n",
        "      print(f\"epochs {i + 1} TRAIN ACC: {train_accuracy:.6f}\")\n",
        "\n",
        "  return weights, bias\n",
        "\n",
        "def predict_threshold(x, weights, bias):\n",
        "  # 예측값이 0.5보다 크면 1, 작으면 0을 반환\n",
        "  y_predicted = h(x, weights, bias)\n",
        "  y_predicted_class = []\n",
        "\n",
        "  for i in y_predicted:\n",
        "    if i > 0.5:\n",
        "      y_predicted_class.append(1)\n",
        "    else:\n",
        "      y_predicted_class.append(0)\n",
        "\n",
        "  return y_predicted_class\n",
        "\n",
        "# 모델 학습\n",
        "weights, bias = train_sigmoid(x_train, y_train, x_test, y_test)\n",
        "\n",
        "y_pred = predict_threshold(x_test, weights, bias) # 테스트 데이터 대상 예측수행\n",
        "test_accuracy = np.mean(y_pred == y_test) # 정확도 계산\n",
        "print(f\"TEST ACC: {test_accuracy:.6f}\")"
      ],
      "metadata": {
        "colab": {
          "base_uri": "https://localhost:8080/"
        },
        "id": "OAnjLg3K9JYg",
        "outputId": "1d481b70-31f6-4b68-d01b-4ac177a04928"
      },
      "execution_count": 20,
      "outputs": [
        {
          "output_type": "stream",
          "name": "stdout",
          "text": [
            "[Logistic Regression]\n",
            "epochs 100 TRAIN ACC: 0.986326\n",
            "epochs 200 TRAIN ACC: 0.986326\n",
            "epochs 300 TRAIN ACC: 0.986326\n",
            "epochs 400 TRAIN ACC: 0.988149\n",
            "epochs 500 TRAIN ACC: 0.988149\n",
            "epochs 600 TRAIN ACC: 0.988149\n",
            "epochs 700 TRAIN ACC: 0.988149\n",
            "epochs 800 TRAIN ACC: 0.988149\n",
            "epochs 900 TRAIN ACC: 0.988149\n",
            "epochs 1000 TRAIN ACC: 0.988149\n",
            "TEST ACC: 0.996364\n"
          ]
        }
      ]
    }
  ]
}