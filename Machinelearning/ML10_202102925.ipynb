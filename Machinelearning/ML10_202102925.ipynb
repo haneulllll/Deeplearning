{
  "nbformat": 4,
  "nbformat_minor": 0,
  "metadata": {
    "colab": {
      "provenance": []
    },
    "kernelspec": {
      "name": "python3",
      "display_name": "Python 3"
    },
    "language_info": {
      "name": "python"
    }
  },
  "cells": [
    {
      "cell_type": "code",
      "source": [
        "from google.colab import drive\n",
        "drive.mount('/content/drive', force_remount=True)\n"
      ],
      "metadata": {
        "id": "7amuggnmbQBd",
        "collapsed": true,
        "colab": {
          "base_uri": "https://localhost:8080/"
        },
        "outputId": "080c4d8b-4ad0-4c47-cde5-6240168f244a"
      },
      "execution_count": 2,
      "outputs": [
        {
          "output_type": "stream",
          "name": "stdout",
          "text": [
            "Mounted at /content/drive\n"
          ]
        }
      ]
    },
    {
      "cell_type": "code",
      "source": [
        "import numpy as np\n",
        "import pandas as pd\n",
        "from sklearn.model_selection import train_test_split\n",
        "from sklearn.neural_network import MLPClassifier\n",
        "from sklearn.metrics import accuracy_score\n",
        "from sklearn.preprocessing import MinMaxScaler\n",
        "\n",
        "path = './drive/MyDrive/ML2024/'\n",
        "filename = 'drybean.csv'\n",
        "\n",
        "data_pd = pd.read_csv(path + filename,header=None)\n",
        "\n",
        "data = data_pd.values"
      ],
      "metadata": {
        "id": "pPPjgJX0yxkY"
      },
      "execution_count": 3,
      "outputs": []
    },
    {
      "cell_type": "code",
      "source": [
        "# 코드 작성\n",
        "x = data[:, :-1]\n",
        "y = data[:, -1]\n",
        "\n",
        "X_train, X_val, y_train, y_val = train_test_split(x, y, test_size=0.2,stratify=y, random_state=0)\n",
        "\n",
        "scaler = MinMaxScaler()\n",
        "X_train = scaler.fit_transform(X_train)\n",
        "X_val = scaler.transform(X_val)\n",
        "\n",
        "model = MLPClassifier(\n",
        "    hidden_layer_sizes=(128, 10), # 변경 가능\n",
        "    activation='relu',\n",
        "    solver='adam',\n",
        "    batch_size = 100,\n",
        "    learning_rate_init = 0.001, # 변경 가능\n",
        "    max_iter=100,\n",
        "    random_state=0\n",
        ")\n",
        "\n",
        "model.fit(X_train, y_train)\n",
        "train_predictions = model.predict(X_train)\n",
        "accuracy = accuracy_score(y_train, train_predictions)\n",
        "print(\"Train Accuracy:\", accuracy)\n",
        "\n",
        "val_predictions = model.predict(X_val)\n",
        "accuracy = accuracy_score(y_val, val_predictions)\n",
        "print(\"Validation Accuracy:\", accuracy)\n",
        "\n",
        "\n",
        "def evaluate_acc(model, X_test, y_test):\n",
        "    test_predictions = model.predict(X_test)\n",
        "    accuracy = accuracy_score(y_test, test_predictions)\n",
        "    return accuracy\n"
      ],
      "metadata": {
        "id": "MOCbTh2nec2Q",
        "colab": {
          "base_uri": "https://localhost:8080/"
        },
        "outputId": "b71b6085-4420-400d-9e3f-dc95a3f8b519"
      },
      "execution_count": 16,
      "outputs": [
        {
          "output_type": "stream",
          "name": "stdout",
          "text": [
            "Train Accuracy: 0.9233065442020666\n",
            "Validation Accuracy: 0.9247015610651974\n"
          ]
        },
        {
          "output_type": "stream",
          "name": "stderr",
          "text": [
            "/usr/local/lib/python3.10/dist-packages/sklearn/neural_network/_multilayer_perceptron.py:690: ConvergenceWarning: Stochastic Optimizer: Maximum iterations (100) reached and the optimization hasn't converged yet.\n",
            "  warnings.warn(\n"
          ]
        }
      ]
    },
    {
      "cell_type": "code",
      "source": [
        "# 채점자 실행 코드\n",
        "# evaluate_acc 함수 호출 부분 외 수정하지 말 것.\n",
        "\n",
        "path = './drive/MyDrive/ML2024/'\n",
        "filename = 'test.csv'\n",
        "\n",
        "test = pd.read_csv(path + filename, header=None).values\n",
        "\n",
        "X_test = test[:, :-1]\n",
        "y_test = test[:, -1]\n",
        "\n",
        "acc = evaluate_acc(model, X_test,y_test)\n",
        "print(\"Test Accuracy:\", acc)"
      ],
      "metadata": {
        "id": "ryPBfMn52JLp",
        "collapsed": true
      },
      "execution_count": null,
      "outputs": []
    }
  ]
}