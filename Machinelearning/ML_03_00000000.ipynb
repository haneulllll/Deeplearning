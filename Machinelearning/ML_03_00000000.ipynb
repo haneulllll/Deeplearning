{
  "nbformat": 4,
  "nbformat_minor": 0,
  "metadata": {
    "colab": {
      "provenance": []
    },
    "kernelspec": {
      "name": "python3",
      "display_name": "Python 3"
    },
    "language_info": {
      "name": "python"
    }
  },
  "cells": [
    {
      "cell_type": "code",
      "execution_count": null,
      "metadata": {
        "id": "GxZjyF5z3sWR"
      },
      "outputs": [],
      "source": [
        "# 항상 코드의 최상단에 위치해야 함.\n",
        "from google.colab import drive\n",
        "drive.mount('/content/drive', force_remount=True)"
      ]
    },
    {
      "cell_type": "code",
      "source": [
        "# 구글 드라이브와 마운트가 된 상태에서 아래 코드를 수행.\n",
        "import pandas as pd\n",
        "import numpy as np\n",
        "from sklearn.neighbors import KNeighborsClassifier\n",
        "from sklearn.metrics import accuracy_score\n",
        "from sklearn.preprocessing import StandardScaler\n",
        "\n",
        "path = './drive/MyDrive/ML2024/'\n",
        "filename = 'drybean.csv'\n",
        "\n",
        "data_pd = pd.read_csv(path + filename)\n",
        "data = data_pd.values\n",
        "\n",
        "data_pd.head() # 상위 5개 데이터 출력"
      ],
      "metadata": {
        "id": "G7X7IcRj42c3",
        "collapsed": true
      },
      "execution_count": null,
      "outputs": []
    }
  ]
}