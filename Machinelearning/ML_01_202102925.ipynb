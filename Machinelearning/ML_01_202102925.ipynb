{
  "nbformat": 4,
  "nbformat_minor": 0,
  "metadata": {
    "colab": {
      "provenance": []
    },
    "kernelspec": {
      "name": "python3",
      "display_name": "Python 3"
    },
    "language_info": {
      "name": "python"
    }
  },
  "cells": [
    {
      "cell_type": "markdown",
      "source": [
        "**코랩을 구글 드라이브와 연결하기**"
      ],
      "metadata": {
        "id": "FzJ9KqYjBSgY"
      }
    },
    {
      "cell_type": "code",
      "source": [
        "from google.colab import drive\n",
        "drive.mount('/content/drive',force_remount=True)"
      ],
      "metadata": {
        "colab": {
          "base_uri": "https://localhost:8080/"
        },
        "id": "sFAN_Cfu9szB",
        "outputId": "40d71e9c-43c4-45f0-f57d-60130d50cd56"
      },
      "execution_count": 3,
      "outputs": [
        {
          "output_type": "stream",
          "name": "stdout",
          "text": [
            "Mounted at /content/drive\n"
          ]
        }
      ]
    },
    {
      "cell_type": "markdown",
      "source": [
        "**numpy 패키지 불러오기**"
      ],
      "metadata": {
        "id": "huKy49wd9qkZ"
      }
    },
    {
      "cell_type": "code",
      "execution_count": 1,
      "metadata": {
        "id": "uOzN758O78_3"
      },
      "outputs": [],
      "source": [
        "import numpy as np"
      ]
    },
    {
      "cell_type": "markdown",
      "source": [
        "**데이터 파일 불러오기**"
      ],
      "metadata": {
        "id": "p5u6snSRCZEP"
      }
    },
    {
      "cell_type": "code",
      "source": [
        "data = np.loadtxt(\"./drive/MyDrive/ML2024/data.txt\",dtype=np.float32)\n",
        "print(data.shape)\n",
        "print(data)"
      ],
      "metadata": {
        "colab": {
          "base_uri": "https://localhost:8080/"
        },
        "id": "Qk-zqdkNCCgU",
        "outputId": "765a0fc2-ac48-4caa-acc7-e7ffb77fc479"
      },
      "execution_count": 6,
      "outputs": [
        {
          "output_type": "stream",
          "name": "stdout",
          "text": [
            "(70, 5)\n",
            "[[0.  4.9 3.  1.4 0.2]\n",
            " [0.  4.7 3.2 1.3 0.2]\n",
            " [0.  4.6 3.1 1.5 0.2]\n",
            " [0.  5.  3.6 1.4 0.2]\n",
            " [0.  5.4 3.9 1.7 0.4]\n",
            " [0.  4.6 3.4 1.4 0.3]\n",
            " [0.  5.  3.4 1.5 0.2]\n",
            " [0.  4.4 2.9 1.4 0.2]\n",
            " [0.  4.9 3.1 1.5 0.1]\n",
            " [0.  5.4 3.7 1.5 0.2]\n",
            " [0.  4.8 3.4 1.6 0.2]\n",
            " [0.  4.8 3.  1.4 0.1]\n",
            " [0.  4.3 3.  1.1 0.1]\n",
            " [0.  5.8 4.  1.2 0.2]\n",
            " [0.  5.7 4.4 1.5 0.4]\n",
            " [0.  5.4 3.9 1.3 0.4]\n",
            " [0.  5.1 3.5 1.4 0.3]\n",
            " [0.  5.7 3.8 1.7 0.3]\n",
            " [0.  5.1 3.8 1.5 0.3]\n",
            " [0.  5.4 3.4 1.7 0.2]\n",
            " [0.  5.1 3.7 1.5 0.4]\n",
            " [0.  4.6 3.6 1.  0.2]\n",
            " [0.  5.1 3.3 1.7 0.5]\n",
            " [0.  4.8 3.4 1.9 0.2]\n",
            " [1.  6.6 3.  4.4 1.4]\n",
            " [1.  6.8 2.8 4.8 1.4]\n",
            " [1.  6.7 3.  5.  1.7]\n",
            " [1.  6.  2.9 4.5 1.5]\n",
            " [1.  5.7 2.6 3.5 1. ]\n",
            " [1.  5.5 2.4 3.8 1.1]\n",
            " [1.  5.5 2.4 3.7 1. ]\n",
            " [1.  5.8 2.7 3.9 1.2]\n",
            " [1.  6.  2.7 5.1 1.6]\n",
            " [1.  5.4 3.  4.5 1.5]\n",
            " [1.  6.  3.4 4.5 1.6]\n",
            " [1.  6.7 3.1 4.7 1.5]\n",
            " [1.  6.3 2.3 4.4 1.3]\n",
            " [1.  5.6 3.  4.1 1.3]\n",
            " [1.  5.5 2.5 4.  1.3]\n",
            " [1.  5.5 2.6 4.4 1.2]\n",
            " [1.  6.1 3.  4.6 1.4]\n",
            " [1.  5.8 2.6 4.  1.2]\n",
            " [1.  5.  2.3 3.3 1. ]\n",
            " [1.  5.6 2.7 4.2 1.3]\n",
            " [1.  5.7 3.  4.2 1.2]\n",
            " [1.  5.7 2.9 4.2 1.3]\n",
            " [1.  6.2 2.9 4.3 1.3]\n",
            " [1.  5.1 2.5 3.  1.1]\n",
            " [2.  6.4 2.8 5.6 2.1]\n",
            " [2.  7.2 3.  5.8 1.6]\n",
            " [2.  7.4 2.8 6.1 1.9]\n",
            " [2.  7.9 3.8 6.4 2. ]\n",
            " [2.  6.4 2.8 5.6 2.2]\n",
            " [2.  6.3 2.8 5.1 1.5]\n",
            " [2.  6.1 2.6 5.6 1.4]\n",
            " [2.  7.7 3.  6.1 2.3]\n",
            " [2.  6.3 3.4 5.6 2.4]\n",
            " [2.  6.4 3.1 5.5 1.8]\n",
            " [2.  6.  3.  4.8 1.8]\n",
            " [2.  6.9 3.1 5.4 2.1]\n",
            " [2.  6.7 3.1 5.6 2.4]\n",
            " [2.  6.9 3.1 5.1 2.3]\n",
            " [2.  5.8 2.7 5.1 1.9]\n",
            " [2.  6.8 3.2 5.9 2.3]\n",
            " [2.  6.7 3.3 5.7 2.5]\n",
            " [2.  6.7 3.  5.2 2.3]\n",
            " [2.  6.3 2.5 5.  1.9]\n",
            " [2.  6.5 3.  5.2 2. ]\n",
            " [2.  6.2 3.4 5.4 2.3]\n",
            " [2.  5.9 3.  5.1 1.8]]\n"
          ]
        }
      ]
    },
    {
      "cell_type": "markdown",
      "source": [
        "**1. 배열 data의 차원 크기와 0부터 4번째의 행들을 출력하기**"
      ],
      "metadata": {
        "id": "cJ6F2qoICrRI"
      }
    },
    {
      "cell_type": "code",
      "source": [
        "print(data.shape)\n",
        "data[0:4]"
      ],
      "metadata": {
        "colab": {
          "base_uri": "https://localhost:8080/"
        },
        "id": "8f_veEkTCeLL",
        "outputId": "d3b0b22d-025c-4db2-b5b0-200164f087db"
      },
      "execution_count": 9,
      "outputs": [
        {
          "output_type": "stream",
          "name": "stdout",
          "text": [
            "(70, 5)\n"
          ]
        },
        {
          "output_type": "execute_result",
          "data": {
            "text/plain": [
              "array([[0. , 4.9, 3. , 1.4, 0.2],\n",
              "       [0. , 4.7, 3.2, 1.3, 0.2],\n",
              "       [0. , 4.6, 3.1, 1.5, 0.2],\n",
              "       [0. , 5. , 3.6, 1.4, 0.2]], dtype=float32)"
            ]
          },
          "metadata": {},
          "execution_count": 9
        }
      ]
    },
    {
      "cell_type": "markdown",
      "source": [
        "**2. data의 첫번째 열에 있는 고유한 값을 구하여 리스트에 저장하기**"
      ],
      "metadata": {
        "id": "IClvqIolC3-f"
      }
    },
    {
      "cell_type": "code",
      "source": [
        "list = np.unique(data[:,0])\n",
        "print(list)"
      ],
      "metadata": {
        "colab": {
          "base_uri": "https://localhost:8080/"
        },
        "id": "-iGc4i3cC9SF",
        "outputId": "ef394d33-09cb-4c72-80d3-b389d7e09938"
      },
      "execution_count": 13,
      "outputs": [
        {
          "output_type": "stream",
          "name": "stdout",
          "text": [
            "[0. 1. 2.]\n"
          ]
        }
      ]
    },
    {
      "cell_type": "markdown",
      "source": [
        "data의 첫 번째 열에서 리스트에 저장된 고유한 값에 해당하는 행들을 추출하여 sub_data에 저장하기\n",
        "\n",
        "sub_data의 첫번째 열을 제외한 나머지 열에 대해 열별 표준편차 계산하기"
      ],
      "metadata": {
        "id": "8BLRAH2yGsA4"
      }
    },
    {
      "cell_type": "code",
      "source": [
        "for i in range(len(list)):\n",
        "    sub_data = data[data[:,0] == list[i]]\n",
        "    a = sub_data[:,1:]\n",
        "    std_val = np.std(a,axis=0)\n",
        "    print(std_val)\n"
      ],
      "metadata": {
        "colab": {
          "base_uri": "https://localhost:8080/"
        },
        "id": "qu0inE75G_Qa",
        "outputId": "b706ae90-d628-47d3-baa9-c1206f38bc3a"
      },
      "execution_count": 44,
      "outputs": [
        {
          "output_type": "stream",
          "name": "stdout",
          "text": [
            "[0.40026033 0.36853218 0.19751056 0.1040833 ]\n",
            "[0.48016194 0.27660516 0.49775538 0.191304  ]\n",
            "[0.5412909  0.28433627 0.39597672 0.2993105 ]\n"
          ]
        }
      ]
    }
  ]
}