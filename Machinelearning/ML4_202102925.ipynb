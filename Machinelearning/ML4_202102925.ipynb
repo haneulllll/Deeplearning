{
  "nbformat": 4,
  "nbformat_minor": 0,
  "metadata": {
    "colab": {
      "provenance": []
    },
    "kernelspec": {
      "name": "python3",
      "display_name": "Python 3"
    },
    "language_info": {
      "name": "python"
    }
  },
  "cells": [
    {
      "cell_type": "code",
      "execution_count": 1,
      "metadata": {
        "colab": {
          "base_uri": "https://localhost:8080/"
        },
        "id": "6Fbzbb9vATzg",
        "outputId": "edccf59d-db59-485c-b303-c93ced329343"
      },
      "outputs": [
        {
          "output_type": "stream",
          "name": "stdout",
          "text": [
            "Mounted at /content/drive\n"
          ]
        }
      ],
      "source": [
        "from google.colab import drive\n",
        "drive.mount('/content/drive', force_remount=True)"
      ]
    },
    {
      "cell_type": "code",
      "source": [
        "import pandas as pd\n",
        "import numpy as np\n",
        "\n",
        "def main():\n",
        "    df = pd.read_csv(\"./drive/MyDrive/ML2024/tic-tac-toe.csv\")\n",
        "    data = df.values\n",
        "    print(data)\n",
        "\n",
        "    # 속성값 o,x,b에 따라 데이터를 분할하기\n",
        "    vals, counts = np.unique(data[:, 0], return_counts=True)\n",
        "    print(vals)\n",
        "    print(counts)\n",
        "\n",
        "    sub_data_o = data[data[:, 0] == vals[1]]\n",
        "    sub_data_x = data[data[:, 0] == vals[2]]\n",
        "    sub_data_b = data[data[:, 0] == vals[0]]\n",
        "\n",
        "    # 각 속성값별 Positive, negative 개수 구하기 + 일치 데이터(Majority)\n",
        "    vals_o, counts_o = np.unique(sub_data_o[:, 1], return_counts=True)\n",
        "    print(\"--속성값 o의 경우--\")\n",
        "    print(vals_o)\n",
        "    print(counts_o)\n",
        "    print(\"majority의 인덱스:\", np.argmax(counts_o))\n",
        "\n",
        "    vals_x, counts_x = np.unique(sub_data_x[:, 1], return_counts=True)\n",
        "    print(\"--속성값 x의 경우--\")\n",
        "    print(vals_x)\n",
        "    print(counts_x)\n",
        "    print(\"majority의 인덱스:\", np.argmax(counts_x))\n",
        "\n",
        "    vals_b, counts_b = np.unique(sub_data_b[:, 1], return_counts=True)\n",
        "    print(\"--속성값 b의 경우--\")\n",
        "    print(vals_b)\n",
        "    print(counts_b)\n",
        "    print(\"majority의 인덱스:\", np.argmax(counts_b))\n",
        "\n",
        "    # 각 속성값별 엔트로피 구하기\n",
        "\n",
        "    entropy_o = -(counts_o[0] / np.sum(counts_o)) * np.log2(counts_o[0] / np.sum(counts_o))\n",
        "    - (counts_o[1] / np.sum(counts_o)) * np.log2(counts_o[1] / np.sum(counts_o))\n",
        "    entropy_x = -(counts_x[0] / np.sum(counts_x)) * np.log2(counts_x[0] / np.sum(counts_x))\n",
        "    - (counts_x[1] / np.sum(counts_x)) * np.log2(counts_x[1] / np.sum(counts_x))\n",
        "    entropy_b = -(counts_b[0] / np.sum(counts_b)) * np.log2(counts_b[0] / np.sum(counts_b))\n",
        "    - (counts_b[1] / np.sum(counts_b)) * np.log2(counts_b[1] / np.sum(counts_b))\n",
        "    print(\"entropy_o: \", entropy_o)\n",
        "    print(\"entropy_x: \", entropy_x)\n",
        "    print(\"entropy_b: \", entropy_b)\n",
        "\n",
        "    # 가중 엔트로피 구하기\n",
        "    weighted_entropy_o = (counts[1]/np.sum(counts)) * entropy_o\n",
        "    weighted_entropy_x = (counts[2]/np.sum(counts)) * entropy_x\n",
        "    weighted_entropy_b = (counts[0]/np.sum(counts)) * entropy_b\n",
        "    print(\"weighted_entropy_o: \", weighted_entropy_o)\n",
        "    print(\"weighted_entropy_x: \", weighted_entropy_x)\n",
        "    print(\"weighted_entropy_b: \", weighted_entropy_b)\n",
        "\n",
        "    # 정확도 구하기\n",
        "    acc = (counts_o[np.argmax(counts_o)] + counts_x[np.argmax(counts_x)] + counts_b[np.argmax(counts_b)]) / np.sum(counts)\n",
        "    print(\"정확도: \", acc)\n",
        "\n",
        "\n",
        "main()\n"
      ],
      "metadata": {
        "id": "FmZpT1ZFAbyS",
        "colab": {
          "base_uri": "https://localhost:8080/"
        },
        "outputId": "5091a319-eaee-4712-aff4-c72a74f7e5da"
      },
      "execution_count": 33,
      "outputs": [
        {
          "output_type": "stream",
          "name": "stdout",
          "text": [
            "[['o' 'positive']\n",
            " ['o' 'positive']\n",
            " ['o' 'positive']\n",
            " ...\n",
            " ['o' 'negative']\n",
            " ['x' 'negative']\n",
            " ['x' 'negative']]\n",
            "['b' 'o' 'x']\n",
            "[160 340 458]\n",
            "--속성값 o의 경우--\n",
            "['negative' 'positive']\n",
            "[192 148]\n",
            "majority의 인덱스: 0\n",
            "--속성값 x의 경우--\n",
            "['negative' 'positive']\n",
            "[ 92 366]\n",
            "majority의 인덱스: 1\n",
            "--속성값 b의 경우--\n",
            "['negative' 'positive']\n",
            "[ 48 112]\n",
            "majority의 인덱스: 1\n",
            "entropy_o:  0.46555958705875516\n",
            "entropy_x:  0.4651507610211215\n",
            "entropy_b:  0.5210896782498619\n",
            "weighted_entropy_o:  0.16522991607513232\n",
            "weighted_entropy_x:  0.222378965081079\n",
            "weighted_entropy_b:  0.08702959135697066\n",
            "정확도:  0.6993736951983298\n"
          ]
        }
      ]
    }
  ]
}