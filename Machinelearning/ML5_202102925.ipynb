{
  "nbformat": 4,
  "nbformat_minor": 0,
  "metadata": {
    "colab": {
      "provenance": []
    },
    "kernelspec": {
      "name": "python3",
      "display_name": "Python 3"
    },
    "language_info": {
      "name": "python"
    }
  },
  "cells": [
    {
      "cell_type": "code",
      "execution_count": 1,
      "metadata": {
        "colab": {
          "base_uri": "https://localhost:8080/"
        },
        "id": "Y1A1nDZD0dby",
        "outputId": "c37e19f5-956b-4385-b25b-344b7d9e5683"
      },
      "outputs": [
        {
          "output_type": "stream",
          "name": "stdout",
          "text": [
            "Mounted at /content/drive\n"
          ]
        }
      ],
      "source": [
        "from google.colab import drive\n",
        "drive.mount('/content/drive', force_remount=True)"
      ]
    },
    {
      "cell_type": "code",
      "source": [
        "import pandas as pd\n",
        "import numpy as np\n",
        "from sklearn.ensemble import BaggingClassifier\n",
        "from sklearn.tree import DecisionTreeClassifier\n",
        "from sklearn.model_selection import train_test_split\n",
        "from sklearn.metrics import accuracy_score"
      ],
      "metadata": {
        "id": "ZM13ISz60mfI"
      },
      "execution_count": 2,
      "outputs": []
    },
    {
      "cell_type": "code",
      "source": [
        "import numpy as np\n",
        "import pandas as pd\n",
        "from sklearn.model_selection import train_test_split\n",
        "\n",
        "path = './drive/MyDrive/ML2024/'\n",
        "filename = 'letter.csv'\n",
        "\n",
        "data_pd = pd.read_csv(path + filename)\n",
        "data = data_pd.values"
      ],
      "metadata": {
        "id": "_2l208Vn1j-e"
      },
      "execution_count": 3,
      "outputs": []
    },
    {
      "cell_type": "code",
      "source": [
        "x_train, x_test, y_train, y_test = train_test_split(data[:,:-1], data[:,-1], shuffle=True, test_size=0.2, random_state=0, stratify=data[:,-1])\n",
        "# stratify를 통해 클래스 비율을 유지"
      ],
      "metadata": {
        "id": "QMHgvnjTIfaE"
      },
      "execution_count": 4,
      "outputs": []
    },
    {
      "cell_type": "markdown",
      "source": [
        "**깊이가 1인 결정트리(decision stump)에서 앙상블 모델 성능 높이기**"
      ],
      "metadata": {
        "id": "OyNUW6wJM-TG"
      }
    },
    {
      "cell_type": "code",
      "source": [
        "def ensemble_stump(n) :\n",
        "  args = {\n",
        "      \"estimator\" :DecisionTreeClassifier(\n",
        "          max_depth=1,\n",
        "          random_state=0,\n",
        "          criterion='entropy'\n",
        "      ),\n",
        "      \"n_estimators\" : n,\n",
        "      \"max_features\": 5,\n",
        "      \"max_samples\": 50,\n",
        "      \"random_state\" : 0,\n",
        "  }\n",
        "\n",
        "  clf = BaggingClassifier(**args)\n",
        "  clf.fit(x_train, y_train)\n",
        "  y_pred = clf.predict(x_test)\n",
        "  print(f\"ensemble_stump {n} ACC:\", round(accuracy_score(y_test, y_pred), 3))"
      ],
      "metadata": {
        "id": "VjvauRg9Lqtw"
      },
      "execution_count": 22,
      "outputs": []
    },
    {
      "cell_type": "code",
      "source": [
        "# max_feature, max_samples 기본값인 경우\n",
        "ensemble_stump(1)\n",
        "ensemble_stump(20)\n",
        "ensemble_stump(30)\n",
        "ensemble_stump(50)\n",
        "ensemble_stump(100)"
      ],
      "metadata": {
        "colab": {
          "base_uri": "https://localhost:8080/"
        },
        "id": "jSXl5DPRNx-d",
        "outputId": "2cc6c1f3-0545-44f5-d6cb-65e715a132c5"
      },
      "execution_count": 6,
      "outputs": [
        {
          "output_type": "stream",
          "name": "stdout",
          "text": [
            "ensemble_stump 1 ACC: 0.073\n",
            "ensemble_stump 20 ACC: 0.068\n",
            "ensemble_stump 30 ACC: 0.073\n",
            "ensemble_stump 50 ACC: 0.072\n",
            "ensemble_stump 100 ACC: 0.072\n"
          ]
        }
      ]
    },
    {
      "cell_type": "code",
      "source": [
        "# max_feature = 4, max_samples = 50\n",
        "ensemble_stump(1)\n",
        "ensemble_stump(20)\n",
        "ensemble_stump(30)\n",
        "ensemble_stump(50)\n",
        "ensemble_stump(100)"
      ],
      "metadata": {
        "colab": {
          "base_uri": "https://localhost:8080/"
        },
        "id": "TpapMTtFfFkS",
        "outputId": "a0406b49-dffa-4fda-874c-774ab3b6f3db"
      },
      "execution_count": 8,
      "outputs": [
        {
          "output_type": "stream",
          "name": "stdout",
          "text": [
            "ensemble_stump 1 ACC: 0.048\n",
            "ensemble_stump 20 ACC: 0.149\n",
            "ensemble_stump 30 ACC: 0.229\n",
            "ensemble_stump 50 ACC: 0.314\n",
            "ensemble_stump 100 ACC: 0.411\n"
          ]
        }
      ]
    },
    {
      "cell_type": "code",
      "source": [
        "# max_feature = 8, max_samples = 50\n",
        "ensemble_stump(1)\n",
        "ensemble_stump(20)\n",
        "ensemble_stump(30)\n",
        "ensemble_stump(50)\n",
        "ensemble_stump(100)"
      ],
      "metadata": {
        "colab": {
          "base_uri": "https://localhost:8080/"
        },
        "id": "M6bQtmkfOBhK",
        "outputId": "89c1a970-60d1-416e-8028-5f025f1efd1d"
      },
      "execution_count": 11,
      "outputs": [
        {
          "output_type": "stream",
          "name": "stdout",
          "text": [
            "ensemble_stump 1 ACC: 0.048\n",
            "ensemble_stump 20 ACC: 0.199\n",
            "ensemble_stump 30 ACC: 0.237\n",
            "ensemble_stump 50 ACC: 0.377\n",
            "ensemble_stump 100 ACC: 0.422\n"
          ]
        }
      ]
    },
    {
      "cell_type": "code",
      "source": [
        "# max_feature = 16, max_samples = 50\n",
        "ensemble_stump(1)\n",
        "ensemble_stump(20)\n",
        "ensemble_stump(30)\n",
        "ensemble_stump(50)\n",
        "ensemble_stump(100)"
      ],
      "metadata": {
        "colab": {
          "base_uri": "https://localhost:8080/"
        },
        "id": "sW0gjvYXO7ie",
        "outputId": "f9acd51c-cf72-41d7-e3da-7def3395d38b"
      },
      "execution_count": 13,
      "outputs": [
        {
          "output_type": "stream",
          "name": "stdout",
          "text": [
            "ensemble_stump 1 ACC: 0.075\n",
            "ensemble_stump 20 ACC: 0.202\n",
            "ensemble_stump 30 ACC: 0.244\n",
            "ensemble_stump 50 ACC: 0.311\n",
            "ensemble_stump 100 ACC: 0.323\n"
          ]
        }
      ]
    },
    {
      "cell_type": "code",
      "source": [
        "# max_feature = 5, max_samples = 50\n",
        "ensemble_stump(1)\n",
        "ensemble_stump(20)\n",
        "ensemble_stump(30)\n",
        "ensemble_stump(50)\n",
        "ensemble_stump(100)"
      ],
      "metadata": {
        "colab": {
          "base_uri": "https://localhost:8080/"
        },
        "id": "SKTaeXZPPDGi",
        "outputId": "981a9f4f-f8ea-447d-82e3-36170af30567"
      },
      "execution_count": 15,
      "outputs": [
        {
          "output_type": "stream",
          "name": "stdout",
          "text": [
            "ensemble_stump 1 ACC: 0.048\n",
            "ensemble_stump 20 ACC: 0.198\n",
            "ensemble_stump 30 ACC: 0.227\n",
            "ensemble_stump 50 ACC: 0.32\n",
            "ensemble_stump 100 ACC: 0.433\n"
          ]
        }
      ]
    },
    {
      "cell_type": "code",
      "source": [
        "# max_feature = 5, max_samples = 30%\n",
        "ensemble_stump(1)\n",
        "ensemble_stump(20)\n",
        "ensemble_stump(30)\n",
        "ensemble_stump(50)\n",
        "ensemble_stump(100)"
      ],
      "metadata": {
        "colab": {
          "base_uri": "https://localhost:8080/"
        },
        "id": "ljPHt7MaPPQY",
        "outputId": "65facac0-4fd2-4af9-a711-7ee17dd9f0a9"
      },
      "execution_count": 17,
      "outputs": [
        {
          "output_type": "stream",
          "name": "stdout",
          "text": [
            "ensemble_stump 1 ACC: 0.071\n",
            "ensemble_stump 20 ACC: 0.256\n",
            "ensemble_stump 30 ACC: 0.276\n",
            "ensemble_stump 50 ACC: 0.278\n",
            "ensemble_stump 100 ACC: 0.267\n"
          ]
        }
      ]
    },
    {
      "cell_type": "code",
      "source": [
        "# max_feature = 5, max_samples = 50%\n",
        "ensemble_stump(1)\n",
        "ensemble_stump(20)\n",
        "ensemble_stump(30)\n",
        "ensemble_stump(50)\n",
        "ensemble_stump(100)"
      ],
      "metadata": {
        "colab": {
          "base_uri": "https://localhost:8080/"
        },
        "id": "L3p5bK9QPYNv",
        "outputId": "5560b748-f40a-4c9e-8219-3a2fb176506f"
      },
      "execution_count": 19,
      "outputs": [
        {
          "output_type": "stream",
          "name": "stdout",
          "text": [
            "ensemble_stump 1 ACC: 0.071\n",
            "ensemble_stump 20 ACC: 0.278\n",
            "ensemble_stump 30 ACC: 0.278\n",
            "ensemble_stump 50 ACC: 0.268\n",
            "ensemble_stump 100 ACC: 0.266\n"
          ]
        }
      ]
    },
    {
      "cell_type": "code",
      "source": [
        "# max_feature = 5, max_samples = 70%\n",
        "ensemble_stump(1)\n",
        "ensemble_stump(20)\n",
        "ensemble_stump(30)\n",
        "ensemble_stump(50)\n",
        "ensemble_stump(100)"
      ],
      "metadata": {
        "colab": {
          "base_uri": "https://localhost:8080/"
        },
        "id": "daKXp41xPllT",
        "outputId": "695ea07b-ba5b-4652-b806-888730817a3b"
      },
      "execution_count": 21,
      "outputs": [
        {
          "output_type": "stream",
          "name": "stdout",
          "text": [
            "ensemble_stump 1 ACC: 0.074\n",
            "ensemble_stump 20 ACC: 0.269\n",
            "ensemble_stump 30 ACC: 0.282\n",
            "ensemble_stump 50 ACC: 0.261\n",
            "ensemble_stump 100 ACC: 0.263\n"
          ]
        }
      ]
    },
    {
      "cell_type": "code",
      "source": [
        "# max_feature = 8, max_samples = 30%\n",
        "ensemble_stump(1)\n",
        "ensemble_stump(20)\n",
        "ensemble_stump(30)\n",
        "ensemble_stump(50)\n",
        "ensemble_stump(100)"
      ],
      "metadata": {
        "colab": {
          "base_uri": "https://localhost:8080/"
        },
        "id": "nVWQGwmpQFZ7",
        "outputId": "6a6c429a-8226-4ff5-ee54-9b5ab3ecd257"
      },
      "execution_count": 23,
      "outputs": [
        {
          "output_type": "stream",
          "name": "stdout",
          "text": [
            "ensemble_stump 1 ACC: 0.072\n",
            "ensemble_stump 20 ACC: 0.205\n",
            "ensemble_stump 30 ACC: 0.191\n",
            "ensemble_stump 50 ACC: 0.221\n",
            "ensemble_stump 100 ACC: 0.219\n"
          ]
        }
      ]
    },
    {
      "cell_type": "markdown",
      "source": [
        "=> max_features = 5, max_samples = 50인 경우 정확도 43%로 가장 높다."
      ],
      "metadata": {
        "id": "hf1tbxqYjCU8"
      }
    },
    {
      "cell_type": "markdown",
      "source": [
        "**깊이가 다양한 트리에서 앙상블 모델 성능 높이기**"
      ],
      "metadata": {
        "id": "67hMYK3ZNGC-"
      }
    },
    {
      "cell_type": "code",
      "source": [
        "def ensemble_stump(n) :\n",
        "  args = {\n",
        "      \"estimator\" :DecisionTreeClassifier(\n",
        "          max_depth= 12,\n",
        "          random_state=0,\n",
        "          criterion='entropy'\n",
        "      ),\n",
        "      \"n_estimators\" : n,\n",
        "      \"max_features\": 5,\n",
        "      \"max_samples\": 50,\n",
        "      \"random_state\" : 0,\n",
        "  }\n",
        "\n",
        "  clf = BaggingClassifier(**args)\n",
        "  clf.fit(x_train, y_train)\n",
        "  y_pred = clf.predict(x_test)\n",
        "  print(f\"ensemble_stump {n} ACC:\", round(accuracy_score(y_test, y_pred), 3))"
      ],
      "metadata": {
        "id": "yYsMxrD8NJuB"
      },
      "execution_count": 38,
      "outputs": []
    },
    {
      "cell_type": "code",
      "source": [
        "# max_depth=5, max_feature = 5, max_samples = 50\n",
        "ensemble_stump(1)\n",
        "ensemble_stump(20)\n",
        "ensemble_stump(30)\n",
        "ensemble_stump(50)\n",
        "ensemble_stump(100)"
      ],
      "metadata": {
        "colab": {
          "base_uri": "https://localhost:8080/"
        },
        "id": "OvRJDCFukz4-",
        "outputId": "a24386d9-fd47-4313-b2f7-d323375f4435"
      },
      "execution_count": 33,
      "outputs": [
        {
          "output_type": "stream",
          "name": "stdout",
          "text": [
            "ensemble_stump 1 ACC: 0.16\n",
            "ensemble_stump 20 ACC: 0.412\n",
            "ensemble_stump 30 ACC: 0.495\n",
            "ensemble_stump 50 ACC: 0.587\n",
            "ensemble_stump 100 ACC: 0.649\n"
          ]
        }
      ]
    },
    {
      "cell_type": "code",
      "source": [
        "# max_depth=10, max_feature = 5, max_samples = 50\n",
        "ensemble_stump(1)\n",
        "ensemble_stump(20)\n",
        "ensemble_stump(30)\n",
        "ensemble_stump(50)\n",
        "ensemble_stump(100)"
      ],
      "metadata": {
        "colab": {
          "base_uri": "https://localhost:8080/"
        },
        "id": "APsnnsHrk30d",
        "outputId": "373d74cf-29a7-4a4c-f42f-dc5b5930effa"
      },
      "execution_count": 35,
      "outputs": [
        {
          "output_type": "stream",
          "name": "stdout",
          "text": [
            "ensemble_stump 1 ACC: 0.172\n",
            "ensemble_stump 20 ACC: 0.414\n",
            "ensemble_stump 30 ACC: 0.491\n",
            "ensemble_stump 50 ACC: 0.582\n",
            "ensemble_stump 100 ACC: 0.67\n"
          ]
        }
      ]
    },
    {
      "cell_type": "code",
      "source": [
        "# max_depth=12, max_feature = 5, max_samples = 50\n",
        "ensemble_stump(1)\n",
        "ensemble_stump(20)\n",
        "ensemble_stump(30)\n",
        "ensemble_stump(50)\n",
        "ensemble_stump(100)"
      ],
      "metadata": {
        "colab": {
          "base_uri": "https://localhost:8080/"
        },
        "id": "5QppbBczlFo2",
        "outputId": "181c6e10-17b6-4e4f-f35b-8372370211b2"
      },
      "execution_count": 39,
      "outputs": [
        {
          "output_type": "stream",
          "name": "stdout",
          "text": [
            "ensemble_stump 1 ACC: 0.172\n",
            "ensemble_stump 20 ACC: 0.414\n",
            "ensemble_stump 30 ACC: 0.491\n",
            "ensemble_stump 50 ACC: 0.582\n",
            "ensemble_stump 100 ACC: 0.669\n"
          ]
        }
      ]
    },
    {
      "cell_type": "code",
      "source": [
        "# max_depth=15, max_feature = 5, max_samples = 50\n",
        "ensemble_stump(1)\n",
        "ensemble_stump(20)\n",
        "ensemble_stump(30)\n",
        "ensemble_stump(50)\n",
        "ensemble_stump(100)"
      ],
      "metadata": {
        "colab": {
          "base_uri": "https://localhost:8080/"
        },
        "id": "B2MFNiOwk9m1",
        "outputId": "94a548b4-c213-40c1-acf8-a4002861de9c"
      },
      "execution_count": 37,
      "outputs": [
        {
          "output_type": "stream",
          "name": "stdout",
          "text": [
            "ensemble_stump 1 ACC: 0.172\n",
            "ensemble_stump 20 ACC: 0.414\n",
            "ensemble_stump 30 ACC: 0.491\n",
            "ensemble_stump 50 ACC: 0.582\n",
            "ensemble_stump 100 ACC: 0.669\n"
          ]
        }
      ]
    },
    {
      "cell_type": "code",
      "source": [
        "# max_depth=50, max_feature = 5, max_samples = 50\n",
        "ensemble_stump(1)\n",
        "ensemble_stump(20)\n",
        "ensemble_stump(30)\n",
        "ensemble_stump(50)\n",
        "ensemble_stump(100)"
      ],
      "metadata": {
        "colab": {
          "base_uri": "https://localhost:8080/"
        },
        "id": "yvsbxFxxg5vz",
        "outputId": "fb06e132-4357-4c6b-cc6f-1755f547d597"
      },
      "execution_count": 25,
      "outputs": [
        {
          "output_type": "stream",
          "name": "stdout",
          "text": [
            "ensemble_stump 1 ACC: 0.172\n",
            "ensemble_stump 20 ACC: 0.414\n",
            "ensemble_stump 30 ACC: 0.491\n",
            "ensemble_stump 50 ACC: 0.582\n",
            "ensemble_stump 100 ACC: 0.669\n"
          ]
        }
      ]
    },
    {
      "cell_type": "code",
      "source": [
        "# max_depth=100, max_feature = 5, max_samples = 50\n",
        "ensemble_stump(1)\n",
        "ensemble_stump(20)\n",
        "ensemble_stump(30)\n",
        "ensemble_stump(50)\n",
        "ensemble_stump(100)"
      ],
      "metadata": {
        "colab": {
          "base_uri": "https://localhost:8080/"
        },
        "id": "jpkKGsZ4QnkP",
        "outputId": "478f093b-e557-477e-96e8-263ef4ceb49b"
      },
      "execution_count": 27,
      "outputs": [
        {
          "output_type": "stream",
          "name": "stdout",
          "text": [
            "ensemble_stump 1 ACC: 0.172\n",
            "ensemble_stump 20 ACC: 0.414\n",
            "ensemble_stump 30 ACC: 0.491\n",
            "ensemble_stump 50 ACC: 0.582\n",
            "ensemble_stump 100 ACC: 0.669\n"
          ]
        }
      ]
    },
    {
      "cell_type": "code",
      "source": [],
      "metadata": {
        "id": "Suqbtes5g4Z4"
      },
      "execution_count": null,
      "outputs": []
    }
  ]
}