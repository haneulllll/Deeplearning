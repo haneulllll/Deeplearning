{
  "nbformat": 4,
  "nbformat_minor": 0,
  "metadata": {
    "colab": {
      "provenance": []
    },
    "kernelspec": {
      "name": "python3",
      "display_name": "Python 3"
    },
    "language_info": {
      "name": "python"
    }
  },
  "cells": [
    {
      "cell_type": "code",
      "execution_count": 1,
      "metadata": {
        "id": "GxZjyF5z3sWR",
        "outputId": "c702a762-4df4-44a0-ff3e-cbe10b3fa96b",
        "colab": {
          "base_uri": "https://localhost:8080/"
        }
      },
      "outputs": [
        {
          "output_type": "stream",
          "name": "stdout",
          "text": [
            "Mounted at /content/drive\n"
          ]
        }
      ],
      "source": [
        "# 항상 코드의 최상단에 위치해야 함.\n",
        "from google.colab import drive\n",
        "drive.mount('/content/drive', force_remount=True)"
      ]
    },
    {
      "cell_type": "code",
      "source": [
        "# 구글 드라이브와 마운트가 된 상태에서 아래 코드를 수행.\n",
        "import pandas as pd\n",
        "import numpy as np\n",
        "\n",
        "path = './drive/MyDrive/ML2024/'\n",
        "filename = 'Iris.csv'\n",
        "\n",
        "data_pd = pd.read_csv(path + filename)\n",
        "print(data_pd)"
      ],
      "metadata": {
        "id": "G7X7IcRj42c3",
        "colab": {
          "base_uri": "https://localhost:8080/"
        },
        "outputId": "9570db7b-a7fa-499b-e953-bf2b90eab4be"
      },
      "execution_count": 2,
      "outputs": [
        {
          "output_type": "stream",
          "name": "stdout",
          "text": [
            "     SepalLengthCm  SepalWidthCm  PetalLengthCm  PetalWidthCm           LABEL\n",
            "0              5.1           3.5            1.4           0.2     Iris-setosa\n",
            "1              4.9           3.0            1.4           0.2     Iris-setosa\n",
            "2              4.7           3.2            1.3           0.2     Iris-setosa\n",
            "3              4.6           3.1            1.5           0.2     Iris-setosa\n",
            "4              5.0           3.6            1.4           0.2     Iris-setosa\n",
            "..             ...           ...            ...           ...             ...\n",
            "145            6.7           3.0            5.2           2.3  Iris-virginica\n",
            "146            6.3           2.5            5.0           1.9  Iris-virginica\n",
            "147            6.5           3.0            5.2           2.0  Iris-virginica\n",
            "148            6.2           3.4            5.4           2.3  Iris-virginica\n",
            "149            5.9           3.0            5.1           1.8  Iris-virginica\n",
            "\n",
            "[150 rows x 5 columns]\n"
          ]
        }
      ]
    },
    {
      "cell_type": "markdown",
      "source": [
        "**문자형 데이터를 수치형 데이터로 변환하기**\n",
        "\n",
        "why ? 기계학습 모델을 실행하기 위해 모든 속성을 수치형으로 변환해야 한다.\n",
        "\n",
        "\n",
        "---\n",
        "\n",
        "\n",
        "\n",
        "<클래스>\n",
        "\n",
        "Iris-setosa : 0\n",
        "\n",
        "Iris-versicolor : 1\n",
        "\n",
        "Iris-viginica : 2\n",
        "\n",
        "\n",
        "\n",
        "<속성>\n",
        "\n",
        "SepalLengthCm(꽃받침 길이)\n",
        "\n",
        "SepalWidthCm(꽃받침 너비)\n",
        "\n",
        "PetalLengthCm(꽃잎 길이)\n",
        "\n",
        "PetalWidthCm(꽃잎 너비)"
      ],
      "metadata": {
        "id": "_LVsf76ZBJaZ"
      }
    },
    {
      "cell_type": "code",
      "source": [
        "num_label, uni_label = pd.factorize(data_pd['LABEL'])\n",
        "\n",
        "#print(uni_label)\n",
        "#print(num_label)\n",
        "data_pd['LABEL'] = num_label\n",
        "#print(data_pd)\n",
        "\n",
        "# DataFrame을 Numpy형으로 변환\n",
        "data = data_pd.values\n",
        "print(data)"
      ],
      "metadata": {
        "colab": {
          "base_uri": "https://localhost:8080/"
        },
        "id": "ZaCqucnvAV0o",
        "outputId": "fe7db17c-3e8a-48e7-c2f4-70a1fa5e4940"
      },
      "execution_count": 3,
      "outputs": [
        {
          "output_type": "stream",
          "name": "stdout",
          "text": [
            "[[5.1 3.5 1.4 0.2 0. ]\n",
            " [4.9 3.  1.4 0.2 0. ]\n",
            " [4.7 3.2 1.3 0.2 0. ]\n",
            " [4.6 3.1 1.5 0.2 0. ]\n",
            " [5.  3.6 1.4 0.2 0. ]\n",
            " [5.4 3.9 1.7 0.4 0. ]\n",
            " [4.6 3.4 1.4 0.3 0. ]\n",
            " [5.  3.4 1.5 0.2 0. ]\n",
            " [4.4 2.9 1.4 0.2 0. ]\n",
            " [4.9 3.1 1.5 0.1 0. ]\n",
            " [5.4 3.7 1.5 0.2 0. ]\n",
            " [4.8 3.4 1.6 0.2 0. ]\n",
            " [4.8 3.  1.4 0.1 0. ]\n",
            " [4.3 3.  1.1 0.1 0. ]\n",
            " [5.8 4.  1.2 0.2 0. ]\n",
            " [5.7 4.4 1.5 0.4 0. ]\n",
            " [5.4 3.9 1.3 0.4 0. ]\n",
            " [5.1 3.5 1.4 0.3 0. ]\n",
            " [5.7 3.8 1.7 0.3 0. ]\n",
            " [5.1 3.8 1.5 0.3 0. ]\n",
            " [5.4 3.4 1.7 0.2 0. ]\n",
            " [5.1 3.7 1.5 0.4 0. ]\n",
            " [4.6 3.6 1.  0.2 0. ]\n",
            " [5.1 3.3 1.7 0.5 0. ]\n",
            " [4.8 3.4 1.9 0.2 0. ]\n",
            " [5.  3.  1.6 0.2 0. ]\n",
            " [5.  3.4 1.6 0.4 0. ]\n",
            " [5.2 3.5 1.5 0.2 0. ]\n",
            " [5.2 3.4 1.4 0.2 0. ]\n",
            " [4.7 3.2 1.6 0.2 0. ]\n",
            " [4.8 3.1 1.6 0.2 0. ]\n",
            " [5.4 3.4 1.5 0.4 0. ]\n",
            " [5.2 4.1 1.5 0.1 0. ]\n",
            " [5.5 4.2 1.4 0.2 0. ]\n",
            " [4.9 3.1 1.5 0.1 0. ]\n",
            " [5.  3.2 1.2 0.2 0. ]\n",
            " [5.5 3.5 1.3 0.2 0. ]\n",
            " [4.9 3.1 1.5 0.1 0. ]\n",
            " [4.4 3.  1.3 0.2 0. ]\n",
            " [5.1 3.4 1.5 0.2 0. ]\n",
            " [5.  3.5 1.3 0.3 0. ]\n",
            " [4.5 2.3 1.3 0.3 0. ]\n",
            " [4.4 3.2 1.3 0.2 0. ]\n",
            " [5.  3.5 1.6 0.6 0. ]\n",
            " [5.1 3.8 1.9 0.4 0. ]\n",
            " [4.8 3.  1.4 0.3 0. ]\n",
            " [5.1 3.8 1.6 0.2 0. ]\n",
            " [4.6 3.2 1.4 0.2 0. ]\n",
            " [5.3 3.7 1.5 0.2 0. ]\n",
            " [5.  3.3 1.4 0.2 0. ]\n",
            " [7.  3.2 4.7 1.4 1. ]\n",
            " [6.4 3.2 4.5 1.5 1. ]\n",
            " [6.9 3.1 4.9 1.5 1. ]\n",
            " [5.5 2.3 4.  1.3 1. ]\n",
            " [6.5 2.8 4.6 1.5 1. ]\n",
            " [5.7 2.8 4.5 1.3 1. ]\n",
            " [6.3 3.3 4.7 1.6 1. ]\n",
            " [4.9 2.4 3.3 1.  1. ]\n",
            " [6.6 2.9 4.6 1.3 1. ]\n",
            " [5.2 2.7 3.9 1.4 1. ]\n",
            " [5.  2.  3.5 1.  1. ]\n",
            " [5.9 3.  4.2 1.5 1. ]\n",
            " [6.  2.2 4.  1.  1. ]\n",
            " [6.1 2.9 4.7 1.4 1. ]\n",
            " [5.6 2.9 3.6 1.3 1. ]\n",
            " [6.7 3.1 4.4 1.4 1. ]\n",
            " [5.6 3.  4.5 1.5 1. ]\n",
            " [5.8 2.7 4.1 1.  1. ]\n",
            " [6.2 2.2 4.5 1.5 1. ]\n",
            " [5.6 2.5 3.9 1.1 1. ]\n",
            " [5.9 3.2 4.8 1.8 1. ]\n",
            " [6.1 2.8 4.  1.3 1. ]\n",
            " [6.3 2.5 4.9 1.5 1. ]\n",
            " [6.1 2.8 4.7 1.2 1. ]\n",
            " [6.4 2.9 4.3 1.3 1. ]\n",
            " [6.6 3.  4.4 1.4 1. ]\n",
            " [6.8 2.8 4.8 1.4 1. ]\n",
            " [6.7 3.  5.  1.7 1. ]\n",
            " [6.  2.9 4.5 1.5 1. ]\n",
            " [5.7 2.6 3.5 1.  1. ]\n",
            " [5.5 2.4 3.8 1.1 1. ]\n",
            " [5.5 2.4 3.7 1.  1. ]\n",
            " [5.8 2.7 3.9 1.2 1. ]\n",
            " [6.  2.7 5.1 1.6 1. ]\n",
            " [5.4 3.  4.5 1.5 1. ]\n",
            " [6.  3.4 4.5 1.6 1. ]\n",
            " [6.7 3.1 4.7 1.5 1. ]\n",
            " [6.3 2.3 4.4 1.3 1. ]\n",
            " [5.6 3.  4.1 1.3 1. ]\n",
            " [5.5 2.5 4.  1.3 1. ]\n",
            " [5.5 2.6 4.4 1.2 1. ]\n",
            " [6.1 3.  4.6 1.4 1. ]\n",
            " [5.8 2.6 4.  1.2 1. ]\n",
            " [5.  2.3 3.3 1.  1. ]\n",
            " [5.6 2.7 4.2 1.3 1. ]\n",
            " [5.7 3.  4.2 1.2 1. ]\n",
            " [5.7 2.9 4.2 1.3 1. ]\n",
            " [6.2 2.9 4.3 1.3 1. ]\n",
            " [5.1 2.5 3.  1.1 1. ]\n",
            " [5.7 2.8 4.1 1.3 1. ]\n",
            " [6.3 3.3 6.  2.5 2. ]\n",
            " [5.8 2.7 5.1 1.9 2. ]\n",
            " [7.1 3.  5.9 2.1 2. ]\n",
            " [6.3 2.9 5.6 1.8 2. ]\n",
            " [6.5 3.  5.8 2.2 2. ]\n",
            " [7.6 3.  6.6 2.1 2. ]\n",
            " [4.9 2.5 4.5 1.7 2. ]\n",
            " [7.3 2.9 6.3 1.8 2. ]\n",
            " [6.7 2.5 5.8 1.8 2. ]\n",
            " [7.2 3.6 6.1 2.5 2. ]\n",
            " [6.5 3.2 5.1 2.  2. ]\n",
            " [6.4 2.7 5.3 1.9 2. ]\n",
            " [6.8 3.  5.5 2.1 2. ]\n",
            " [5.7 2.5 5.  2.  2. ]\n",
            " [5.8 2.8 5.1 2.4 2. ]\n",
            " [6.4 3.2 5.3 2.3 2. ]\n",
            " [6.5 3.  5.5 1.8 2. ]\n",
            " [7.7 3.8 6.7 2.2 2. ]\n",
            " [7.7 2.6 6.9 2.3 2. ]\n",
            " [6.  2.2 5.  1.5 2. ]\n",
            " [6.9 3.2 5.7 2.3 2. ]\n",
            " [5.6 2.8 4.9 2.  2. ]\n",
            " [7.7 2.8 6.7 2.  2. ]\n",
            " [6.3 2.7 4.9 1.8 2. ]\n",
            " [6.7 3.3 5.7 2.1 2. ]\n",
            " [7.2 3.2 6.  1.8 2. ]\n",
            " [6.2 2.8 4.8 1.8 2. ]\n",
            " [6.1 3.  4.9 1.8 2. ]\n",
            " [6.4 2.8 5.6 2.1 2. ]\n",
            " [7.2 3.  5.8 1.6 2. ]\n",
            " [7.4 2.8 6.1 1.9 2. ]\n",
            " [7.9 3.8 6.4 2.  2. ]\n",
            " [6.4 2.8 5.6 2.2 2. ]\n",
            " [6.3 2.8 5.1 1.5 2. ]\n",
            " [6.1 2.6 5.6 1.4 2. ]\n",
            " [7.7 3.  6.1 2.3 2. ]\n",
            " [6.3 3.4 5.6 2.4 2. ]\n",
            " [6.4 3.1 5.5 1.8 2. ]\n",
            " [6.  3.  4.8 1.8 2. ]\n",
            " [6.9 3.1 5.4 2.1 2. ]\n",
            " [6.7 3.1 5.6 2.4 2. ]\n",
            " [6.9 3.1 5.1 2.3 2. ]\n",
            " [5.8 2.7 5.1 1.9 2. ]\n",
            " [6.8 3.2 5.9 2.3 2. ]\n",
            " [6.7 3.3 5.7 2.5 2. ]\n",
            " [6.7 3.  5.2 2.3 2. ]\n",
            " [6.3 2.5 5.  1.9 2. ]\n",
            " [6.5 3.  5.2 2.  2. ]\n",
            " [6.2 3.4 5.4 2.3 2. ]\n",
            " [5.9 3.  5.1 1.8 2. ]]\n"
          ]
        }
      ]
    },
    {
      "cell_type": "code",
      "source": [
        "classes = np.unique(data[:, -1])\n",
        "print(classes)"
      ],
      "metadata": {
        "colab": {
          "base_uri": "https://localhost:8080/"
        },
        "id": "q7i54AppBIqv",
        "outputId": "1ed12b1d-a2f4-4df9-9bbc-063d0d1e6995"
      },
      "execution_count": 4,
      "outputs": [
        {
          "output_type": "stream",
          "name": "stdout",
          "text": [
            "[0. 1. 2.]\n"
          ]
        }
      ]
    },
    {
      "cell_type": "markdown",
      "source": [
        "클래스별로 그룹화하여 sub_data에 저장하기"
      ],
      "metadata": {
        "id": "AsXi3IfUG9Id"
      }
    },
    {
      "cell_type": "code",
      "source": [
        "distance = 0\n",
        "std_val = 0\n",
        "for i in range(len(classes)):\n",
        "  total_avg = np.average(data[:,:-1], axis=0) # 전체 데이터의 속성별 평균\n",
        "  print(\"total_avg: \",total_avg)\n",
        "  sub_data = data[data[:,-1] == classes[i]]\n",
        "  a = sub_data[:,:-1]\n",
        "  avg = np.average(a, axis=0) # 클래스별 속성별 평균\n",
        "  #print(a)\n",
        "  print(\"avg: \",avg)\n",
        "  distance += np.abs(total_avg - avg)\n",
        "  print(\"distance: \",distance)\n",
        "  std_val += np.std(a, axis=0) # 클래스별 속성별 표준편차의 총합\n",
        "  print(\"std_val: \",std_val)\n"
      ],
      "metadata": {
        "colab": {
          "base_uri": "https://localhost:8080/"
        },
        "id": "QTGBkrOSGwyZ",
        "outputId": "5e131bf8-008a-4ce6-edfc-02ede7ff5fc2"
      },
      "execution_count": 5,
      "outputs": [
        {
          "output_type": "stream",
          "name": "stdout",
          "text": [
            "total_avg:  [5.84333333 3.054      3.75866667 1.19866667]\n",
            "avg:  [5.006 3.418 1.464 0.244]\n",
            "distance:  [0.83733333 0.364      2.29466667 0.95466667]\n",
            "std_val:  [0.34894699 0.37719491 0.17176728 0.10613199]\n",
            "total_avg:  [5.84333333 3.054      3.75866667 1.19866667]\n",
            "avg:  [5.936 2.77  4.26  1.326]\n",
            "distance:  [0.93  0.648 2.796 1.082]\n",
            "std_val:  [0.85993035 0.6878394  0.63695542 0.30189716]\n",
            "total_avg:  [5.84333333 3.054      3.75866667 1.19866667]\n",
            "avg:  [6.588 2.974 5.552 2.026]\n",
            "distance:  [1.67466667 0.728      4.58933333 1.90933333]\n",
            "std_val:  [1.48941903 1.00709478 1.18330329 0.57378684]\n"
          ]
        }
      ]
    },
    {
      "cell_type": "code",
      "source": [
        "standard1 = distance - std_val\n",
        "print(standard1)\n",
        "\n",
        "standard2 = distance / std_val\n",
        "print(standard2)"
      ],
      "metadata": {
        "colab": {
          "base_uri": "https://localhost:8080/"
        },
        "id": "YDaXFo9QKTQX",
        "outputId": "598c4118-1aac-4fc8-b0d5-bb2573658881"
      },
      "execution_count": 6,
      "outputs": [
        {
          "output_type": "stream",
          "name": "stdout",
          "text": [
            "[ 0.18524763 -0.27909478  3.40603004  1.33554649]\n",
            "[1.12437577 0.72287138 3.87840832 3.32760041]\n"
          ]
        }
      ]
    },
    {
      "cell_type": "markdown",
      "source": [
        "분별력이 가장 큰 속성 2가지 => PetalLengthCm(꽃잎 길이), PetalWidthCm(꽃잎 너비)\n",
        "\n",
        "분별력이 가장 작은 속성 2가지 => SepalLengthCm(꽃받침 길이), SepalWidthCm(꽃받침 너비)\n",
        "\n",
        "\n"
      ],
      "metadata": {
        "id": "gfwjyfoUQQM1"
      }
    },
    {
      "cell_type": "code",
      "source": [
        "from matplotlib import pyplot as plt\n",
        "for i in range(len(classes)):\n",
        "  class_data = data[data[:,-1] == classes[i]]\n",
        "  if len(class_data) > 0:\n",
        "    if i == 0:\n",
        "      plt.scatter(class_data[:,2], class_data[:,3], color='r')\n",
        "    elif i == 1:\n",
        "      plt.scatter(class_data[:,2], class_data[:,3], color='g')\n",
        "    elif i == 2:\n",
        "      plt.scatter(class_data[:,2], class_data[:,3], color='b')\n",
        "\n",
        "plt.show()"
      ],
      "metadata": {
        "colab": {
          "base_uri": "https://localhost:8080/",
          "height": 430
        },
        "id": "PfE6ndMgRvfU",
        "outputId": "bd9bd81d-8433-4652-a6df-2af8b1a28879"
      },
      "execution_count": 7,
      "outputs": [
        {
          "output_type": "display_data",
          "data": {
            "text/plain": [
              "<Figure size 640x480 with 1 Axes>"
            ],
            "image/png": "[encoded data removed]"
          },
          "metadata": {}
        }
      ]
    },
    {
      "cell_type": "code",
      "source": [
        "for i in range(len(classes)):\n",
        "  class_data = data[data[:,-1] == classes[i]]\n",
        "  if len(class_data) > 0:\n",
        "    if i == 0:\n",
        "      plt.scatter(class_data[:,0], class_data[:,1], color='r')\n",
        "    elif i == 1:\n",
        "      plt.scatter(class_data[:,0], class_data[:,1], color='g')\n",
        "    elif i == 2:\n",
        "      plt.scatter(class_data[:,0], class_data[:,1], color='b')\n",
        "\n",
        "plt.show()"
      ],
      "metadata": {
        "colab": {
          "base_uri": "https://localhost:8080/",
          "height": 433
        },
        "id": "x9G7R5NfTYdR",
        "outputId": "5bbda6fa-5121-4746-f1c8-308f9116895d"
      },
      "execution_count": 8,
      "outputs": [
        {
          "output_type": "display_data",
          "data": {
            "text/plain": [
              "<Figure size 640x480 with 1 Axes>"
            ],
            "image/png": "[encoded data removed]"
          },
          "metadata": {}
        }
      ]
    }
  ]
}