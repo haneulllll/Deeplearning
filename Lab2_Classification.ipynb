{
  "nbformat": 4,
  "nbformat_minor": 0,
  "metadata": {
    "colab": {
      "provenance": [],
      "gpuType": "T4",
      "authorship_tag": "ABX9TyP1+wAAnvgFo/xv9ttM14u7",
      "include_colab_link": true
    },
    "kernelspec": {
      "name": "python3",
      "display_name": "Python 3"
    },
    "language_info": {
      "name": "python"
    },
    "accelerator": "GPU"
  },
  "cells": [
    {
      "cell_type": "markdown",
      "metadata": {
        "id": "view-in-github",
        "colab_type": "text"
      },
      "source": [
        "<a href=\"https://colab.research.google.com/github/haneulllll/Deeplearning/blob/practice/Lab2_Classification.ipynb\" target=\"_parent\"><img src=\"https://colab.research.google.com/assets/colab-badge.svg\" alt=\"Open In Colab\"/></a>"
      ]
    },
    {
      "cell_type": "code",
      "execution_count": null,
      "metadata": {
        "id": "wzMsAWDJnntu"
      },
      "outputs": [],
      "source": [
        "import torch\n",
        "import torch.nn as nn\n",
        "import torch.nn.functional as F\n",
        "from torch.utils.data import Dataset, DataLoader\n",
        "import torch.utils.data as data_utils\n",
        "import torchvision\n",
        "import torchvision.transforms as transforms\n",
        "\n",
        "import numpy as np\n",
        "import matplotlib.pyplot as plt\n",
        "import random"
      ]
    },
    {
      "cell_type": "markdown",
      "source": [
        "**GPU setting하기**\n",
        "\n",
        "1. 상단메뉴의 런타임 - 런타임 유형 변경 - 하드웨어 가속기 메뉴에서 GPU를 선택 - 저장"
      ],
      "metadata": {
        "id": "_LL-pNVboFYi"
      }
    },
    {
      "cell_type": "code",
      "source": [
        "device = 'cuda' if torch.cuda.is_available() else 'cpu'\n",
        "print(device)\n",
        "\n",
        "random.seed(777)\n",
        "torch.manual_seed(777)\n",
        "if device == 'cuda' :\n",
        "  torch.cuda.manual_seed_all(777)"
      ],
      "metadata": {
        "colab": {
          "base_uri": "https://localhost:8080/"
        },
        "id": "qvs53SCVoKNO",
        "outputId": "bf701781-b829-44a1-983a-f59c870223b9"
      },
      "execution_count": null,
      "outputs": [
        {
          "output_type": "stream",
          "name": "stdout",
          "text": [
            "cuda\n"
          ]
        }
      ]
    },
    {
      "cell_type": "markdown",
      "source": [
        "**데이터 불러오기**"
      ],
      "metadata": {
        "id": "JX1J__Raqu2g"
      }
    },
    {
      "cell_type": "code",
      "source": [
        "train_dataset = torchvision.datasets.MNIST(root='./data', train=True, transform=transforms.ToTensor(), download=True)\n",
        "test_dataset = torchvision.datasets.MNIST(root='./data', train=False, transform=transforms.ToTensor(), download=True)"
      ],
      "metadata": {
        "colab": {
          "base_uri": "https://localhost:8080/"
        },
        "id": "w4n_m0_Fqww7",
        "outputId": "668da988-c916-4b49-cb0a-669df34de33e"
      },
      "execution_count": null,
      "outputs": [
        {
          "output_type": "stream",
          "name": "stdout",
          "text": [
            "Downloading http://yann.lecun.com/exdb/mnist/train-images-idx3-ubyte.gz\n",
            "Downloading http://yann.lecun.com/exdb/mnist/train-images-idx3-ubyte.gz to ./data/MNIST/raw/train-images-idx3-ubyte.gz\n"
          ]
        },
        {
          "output_type": "stream",
          "name": "stderr",
          "text": [
            "100%|██████████| 9912422/9912422 [00:00<00:00, 92778696.73it/s]\n"
          ]
        },
        {
          "output_type": "stream",
          "name": "stdout",
          "text": [
            "Extracting ./data/MNIST/raw/train-images-idx3-ubyte.gz to ./data/MNIST/raw\n",
            "\n",
            "Downloading http://yann.lecun.com/exdb/mnist/train-labels-idx1-ubyte.gz\n",
            "Downloading http://yann.lecun.com/exdb/mnist/train-labels-idx1-ubyte.gz to ./data/MNIST/raw/train-labels-idx1-ubyte.gz\n"
          ]
        },
        {
          "output_type": "stream",
          "name": "stderr",
          "text": [
            "100%|██████████| 28881/28881 [00:00<00:00, 21612077.40it/s]\n"
          ]
        },
        {
          "output_type": "stream",
          "name": "stdout",
          "text": [
            "Extracting ./data/MNIST/raw/train-labels-idx1-ubyte.gz to ./data/MNIST/raw\n",
            "\n",
            "Downloading http://yann.lecun.com/exdb/mnist/t10k-images-idx3-ubyte.gz\n",
            "Downloading http://yann.lecun.com/exdb/mnist/t10k-images-idx3-ubyte.gz to ./data/MNIST/raw/t10k-images-idx3-ubyte.gz\n"
          ]
        },
        {
          "output_type": "stream",
          "name": "stderr",
          "text": [
            "100%|██████████| 1648877/1648877 [00:00<00:00, 31083496.17it/s]\n"
          ]
        },
        {
          "output_type": "stream",
          "name": "stdout",
          "text": [
            "Extracting ./data/MNIST/raw/t10k-images-idx3-ubyte.gz to ./data/MNIST/raw\n",
            "\n",
            "Downloading http://yann.lecun.com/exdb/mnist/t10k-labels-idx1-ubyte.gz\n",
            "Downloading http://yann.lecun.com/exdb/mnist/t10k-labels-idx1-ubyte.gz to ./data/MNIST/raw/t10k-labels-idx1-ubyte.gz\n"
          ]
        },
        {
          "output_type": "stream",
          "name": "stderr",
          "text": [
            "100%|██████████| 4542/4542 [00:00<00:00, 21998301.12it/s]"
          ]
        },
        {
          "output_type": "stream",
          "name": "stdout",
          "text": [
            "Extracting ./data/MNIST/raw/t10k-labels-idx1-ubyte.gz to ./data/MNIST/raw\n",
            "\n"
          ]
        },
        {
          "output_type": "stream",
          "name": "stderr",
          "text": [
            "\n"
          ]
        }
      ]
    },
    {
      "cell_type": "markdown",
      "source": [
        "**데이터를 배치화하기(Batchfy)**"
      ],
      "metadata": {
        "id": "rnWhhbbxrJpy"
      }
    },
    {
      "cell_type": "code",
      "source": [
        "batch_size = 100\n",
        "\n",
        "train_loader = DataLoader(dataset = train_dataset, batch_size = batch_size, shuffle=True)\n",
        "test_loader = DataLoader(dataset = test_dataset, batch_size = batch_size, shuffle=False)"
      ],
      "metadata": {
        "id": "dA8V42lgrNkG"
      },
      "execution_count": null,
      "outputs": []
    },
    {
      "cell_type": "code",
      "source": [
        "for i, data in enumerate(train_loader) :\n",
        "  x,y = data\n",
        "  print(y.shape)\n",
        "  print(x.shape)\n",
        "  print(x[0].shape)\n",
        "  print(y[0])\n",
        "  plt.imshow(x[0][0].reshape(28,28), cmap='gray')\n",
        "  break"
      ],
      "metadata": {
        "colab": {
          "base_uri": "https://localhost:8080/",
          "height": 498
        },
        "id": "081t-0SbsZQX",
        "outputId": "5ebd0a06-959a-45b9-8f90-dc1fa77c61fd"
      },
      "execution_count": null,
      "outputs": [
        {
          "output_type": "stream",
          "name": "stdout",
          "text": [
            "torch.Size([100])\n",
            "torch.Size([100, 1, 28, 28])\n",
            "torch.Size([1, 28, 28])\n",
            "tensor(0)\n"
          ]
        },
        {
          "output_type": "display_data",
          "data": {
            "text/plain": [
              "<Figure size 640x480 with 1 Axes>"
            ],
            "image/png": "[encoded data removed]"
          },
          "metadata": {}
        }
      ]
    },
    {
      "cell_type": "markdown",
      "source": [
        "**첫번째 Model 생성**\n",
        "\n",
        "\n",
        "- Hidden layer 수 : 3개\n",
        "- node 변경 : 784 - 256 - 256 - 100 - 10\n",
        "- Activation Function : ReLU"
      ],
      "metadata": {
        "id": "rQIWcJL65rlh"
      }
    },
    {
      "cell_type": "code",
      "source": [
        "class MLP_model(torch.nn.Module) :\n",
        "  def __init__(self, input_size, num_classes) :\n",
        "    super(MLP_model, self).__init__()\n",
        "    self.input_size = input_size\n",
        "    self.num_classes = num_classes\n",
        "    self.fc1 = torch.nn.Linear(input_size, 256)\n",
        "    self.fc2 = torch.nn.Linear(256, 256)\n",
        "    self.fc3 = torch.nn.Linear(256, 100)\n",
        "    self.fc4 = torch.nn.Linear(100, num_classes)\n",
        "    self.relu = torch.nn.ReLU()\n",
        "\n",
        "  def forward(self, x) :\n",
        "    fc1 = self.fc1(x)\n",
        "    ac1 = self.relu(fc1)\n",
        "\n",
        "    fc2 = self.fc2(ac1)\n",
        "    ac2 = self.relu(fc2)\n",
        "\n",
        "    fc3 = self.fc3(ac2)\n",
        "    ac3 = self.relu(fc3)\n",
        "\n",
        "    output = self.fc4(ac3)\n",
        "\n",
        "    return output"
      ],
      "metadata": {
        "id": "aIbaDkM25wlp"
      },
      "execution_count": null,
      "outputs": []
    },
    {
      "cell_type": "code",
      "source": [
        "# 파라미터 정의\n",
        "\n",
        "input_size = 784  #28*28\n",
        "num_classes = 10\n",
        "num_epochs = 5\n",
        "learning_rate = 0.1"
      ],
      "metadata": {
        "id": "QbuSHjEi9ZUp"
      },
      "execution_count": null,
      "outputs": []
    },
    {
      "cell_type": "code",
      "source": [
        "# Model 정의\n",
        "\n",
        "model = MLP_model(input_size, num_classes).to(device)  # to(device) : model을 device에서 연산하겠다.\n",
        "criterion = nn.CrossEntropyLoss()\n",
        "optimizer = torch.optim.SGD(model.parameters(), lr = learning_rate)"
      ],
      "metadata": {
        "id": "rry7Jr669kGi"
      },
      "execution_count": null,
      "outputs": []
    },
    {
      "cell_type": "markdown",
      "source": [
        "**Train 과정**"
      ],
      "metadata": {
        "id": "DvXrjAPAcHfc"
      }
    },
    {
      "cell_type": "code",
      "source": [
        "loss_list = []\n",
        "for epoch_num in range(num_epochs) :\n",
        "  average_cost = 0\n",
        "\n",
        "  for batch_idx, (x_data, y_label) in enumerate(train_loader) :\n",
        "    num_of_mini_batch = len(train_loader)\n",
        "    x_data = x_data.reshape(-1, 28*28)\n",
        "    input_image = x_data.to(device)\n",
        "    label = y_label.to(device)\n",
        "    optimizer.zero_grad()\n",
        "    y_predict = model(input_image)\n",
        "    loss = criterion(y_predict, label)\n",
        "    loss.backward()\n",
        "    optimizer.step()\n",
        "\n",
        "    average_cost = average_cost + (loss.item()/num_of_mini_batch)\n",
        "    loss_list.append(loss)\n",
        "\n",
        "  print(\"Epoch {} Loss {:.5f}\".format((epoch_num+1), average_cost))"
      ],
      "metadata": {
        "colab": {
          "base_uri": "https://localhost:8080/"
        },
        "id": "OJ-5R6eQcLxh",
        "outputId": "78ac1e02-a372-44ab-8003-ea189e8d2807"
      },
      "execution_count": null,
      "outputs": [
        {
          "output_type": "stream",
          "name": "stdout",
          "text": [
            "Epoch 1 Loss 0.15438\n",
            "Epoch 2 Loss 0.11256\n",
            "Epoch 3 Loss 0.08726\n",
            "Epoch 4 Loss 0.07028\n",
            "Epoch 5 Loss 0.05879\n"
          ]
        }
      ]
    },
    {
      "cell_type": "markdown",
      "source": [
        "**Validation 과정**"
      ],
      "metadata": {
        "id": "c6BNsdWmdiKS"
      }
    },
    {
      "cell_type": "code",
      "source": [
        "with torch.no_grad() :\n",
        "  num_total_data = 0\n",
        "  correct = 0\n",
        "  for batch_idx, (images, labels) in enumerate(test_loader) :\n",
        "\n",
        "    images = images.reshape(-1, 28*28)\n",
        "    images = images.to(device)\n",
        "    labels = labels.to(device)\n",
        "    outputs = model(images)\n",
        "    outputs_softmax = F.softmax(outputs, dim=1)\n",
        "    predicted = torch.argmax(outputs_softmax, dim=1)\n",
        "\n",
        "    num_total_data += len(images)\n",
        "    answer = sum(labels == predicted).item()\n",
        "    correct += answer\n",
        "\n",
        "print(\"Model accuracy {:.5f}%\".format((correct/num_total_data)*100))"
      ],
      "metadata": {
        "colab": {
          "base_uri": "https://localhost:8080/"
        },
        "id": "hjEOyV8Udl5h",
        "outputId": "9462504a-34e7-4046-a701-2e1a2af90357"
      },
      "execution_count": null,
      "outputs": [
        {
          "output_type": "stream",
          "name": "stdout",
          "text": [
            "Model accuracy 97.63000%\n"
          ]
        }
      ]
    },
    {
      "cell_type": "markdown",
      "source": [
        "## **실습예제와 비교하여 Hidden layer의 수를 증가한 결과, Model 정확도가 향상됨을 확인.**"
      ],
      "metadata": {
        "id": "UUpmkl2jeh78"
      }
    },
    {
      "cell_type": "markdown",
      "source": [
        "**두번째 Model 생성**\n",
        "\n",
        "\n",
        "- Hidden layer 수 : 3개\n",
        "- node 변경 : 784 - 256 - 256 - 100 - 10\n",
        "- Activation Function : sigmoid"
      ],
      "metadata": {
        "id": "YIpFhtePgUVw"
      }
    },
    {
      "cell_type": "code",
      "source": [
        "class MLP_model(torch.nn.Module):\n",
        "    def __init__(self, input_size, num_classes):\n",
        "        super(MLP_model, self).__init__()\n",
        "        self.input_size = input_size\n",
        "        self.num_classes = num_classes\n",
        "        self.fc1 = torch.nn.Linear(input_size, 256)\n",
        "        self.fc2 = torch.nn.Linear(256, 256)\n",
        "        self.fc3 = torch.nn.Linear(256, 100)\n",
        "        self.fc4 = torch.nn.Linear(100, num_classes)\n",
        "        self.sigmoid = torch.nn.Sigmoid()\n",
        "\n",
        "    def forward(self, x):\n",
        "        fc1 = self.fc1(x)\n",
        "        ac1 = self.sigmoid(fc1)\n",
        "\n",
        "        fc2 = self.fc2(ac1)\n",
        "        ac2 = self.sigmoid(fc2)\n",
        "\n",
        "        fc3 = self.fc3(ac2)\n",
        "        ac3 = self.sigmoid(fc3)\n",
        "\n",
        "        output = self.fc4(ac3)\n",
        "\n",
        "        return output\n"
      ],
      "metadata": {
        "id": "T7fk8msfgb2Q"
      },
      "execution_count": null,
      "outputs": []
    },
    {
      "cell_type": "code",
      "source": [
        "# 파라미터 정의\n",
        "\n",
        "input_size = 784  #28*28\n",
        "num_classes = 10\n",
        "num_epochs = 5\n",
        "learning_rate = 0.1"
      ],
      "metadata": {
        "id": "-1zmejMtgn5Q"
      },
      "execution_count": null,
      "outputs": []
    },
    {
      "cell_type": "code",
      "source": [
        "# Model 정의\n",
        "\n",
        "model = MLP_model(input_size, num_classes).to(device)  # to(device) : model을 device에서 연산하겠다.\n",
        "criterion = nn.CrossEntropyLoss()\n",
        "optimizer = torch.optim.SGD(model.parameters(), lr = learning_rate)"
      ],
      "metadata": {
        "id": "jwE5806Wgo8X"
      },
      "execution_count": null,
      "outputs": []
    },
    {
      "cell_type": "markdown",
      "source": [
        "**Train 과정**"
      ],
      "metadata": {
        "id": "cLe00s2YgvpJ"
      }
    },
    {
      "cell_type": "code",
      "source": [
        "loss_list = []\n",
        "for epoch_num in range(num_epochs) :\n",
        "  average_cost = 0\n",
        "\n",
        "  for batch_idx, (x_data, y_label) in enumerate(train_loader) :\n",
        "    num_of_mini_batch = len(train_loader)\n",
        "    x_data = x_data.reshape(-1, 28*28)\n",
        "    input_image = x_data.to(device)\n",
        "    label = y_label.to(device)\n",
        "    optimizer.zero_grad()\n",
        "    y_predict = model(input_image)\n",
        "    loss = criterion(y_predict, label)\n",
        "    loss.backward()\n",
        "    optimizer.step()\n",
        "\n",
        "    average_cost = average_cost + (loss.item()/num_of_mini_batch)\n",
        "    loss_list.append(loss)\n",
        "\n",
        "  print(\"Epoch {} Loss {:.5f}\".format((epoch_num+1), average_cost))"
      ],
      "metadata": {
        "colab": {
          "base_uri": "https://localhost:8080/"
        },
        "id": "unrFd3aggyB2",
        "outputId": "dd8f9d74-231f-4209-c1ef-4c001764c575"
      },
      "execution_count": null,
      "outputs": [
        {
          "output_type": "stream",
          "name": "stdout",
          "text": [
            "Epoch 1 Loss 2.30721\n",
            "Epoch 2 Loss 2.30449\n",
            "Epoch 3 Loss 2.30076\n",
            "Epoch 4 Loss 2.29197\n",
            "Epoch 5 Loss 2.03568\n"
          ]
        }
      ]
    },
    {
      "cell_type": "markdown",
      "source": [
        "**Validation 과정**"
      ],
      "metadata": {
        "id": "erU1wnhTg8lS"
      }
    },
    {
      "cell_type": "code",
      "source": [
        "with torch.no_grad() :\n",
        "  num_total_data = 0\n",
        "  correct = 0\n",
        "  for batch_idx, (images, labels) in enumerate(test_loader) :\n",
        "\n",
        "    images = images.reshape(-1, 28*28)\n",
        "    images = images.to(device)\n",
        "    labels = labels.to(device)\n",
        "    outputs = model(images)\n",
        "    outputs_softmax = F.softmax(outputs, dim=1)\n",
        "    predicted = torch.argmax(outputs_softmax, dim=1)\n",
        "\n",
        "    num_total_data += len(images)\n",
        "    answer = sum(labels == predicted).item()\n",
        "    correct += answer\n",
        "\n",
        "print(\"Model accuracy {:.5f}%\".format((correct/num_total_data)*100))"
      ],
      "metadata": {
        "colab": {
          "base_uri": "https://localhost:8080/"
        },
        "id": "Bb8le8c4g_IE",
        "outputId": "02d46490-f7f3-4bc6-a449-f8c2848b91ac"
      },
      "execution_count": null,
      "outputs": [
        {
          "output_type": "stream",
          "name": "stdout",
          "text": [
            "Model accuracy 39.67000%\n"
          ]
        }
      ]
    },
    {
      "cell_type": "markdown",
      "source": [
        "## **첫번째 모델과 비교하여 활성화함수로 sigmoid를 이용한 결과, Model 정확도가 매우 감소됨을 확인.**"
      ],
      "metadata": {
        "id": "kmv0zlyFhII3"
      }
    }
  ]
}