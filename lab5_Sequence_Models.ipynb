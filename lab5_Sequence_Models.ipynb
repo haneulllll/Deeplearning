{
  "nbformat": 4,
  "nbformat_minor": 0,
  "metadata": {
    "colab": {
      "provenance": [],
      "gpuType": "T4",
      "authorship_tag": "ABX9TyNxlfqyToB2C4PL72yROQGn",
      "include_colab_link": true
    },
    "kernelspec": {
      "name": "python3",
      "display_name": "Python 3"
    },
    "language_info": {
      "name": "python"
    },
    "accelerator": "GPU"
  },
  "cells": [
    {
      "cell_type": "markdown",
      "metadata": {
        "id": "view-in-github",
        "colab_type": "text"
      },
      "source": [
        "<a href=\"https://colab.research.google.com/github/haneulllll/Deeplearning/blob/practice/lab5_Sequence_Models.ipynb\" target=\"_parent\"><img src=\"https://colab.research.google.com/assets/colab-badge.svg\" alt=\"Open In Colab\"/></a>"
      ]
    },
    {
      "cell_type": "markdown",
      "source": [
        "# RNN 모델 생성하기\n",
        "\n",
        "**애플(AAPL) 데이터의 RNN 모델 생성하기**"
      ],
      "metadata": {
        "id": "0w17z-bvo540"
      }
    },
    {
      "cell_type": "markdown",
      "source": [
        "# **첫번째 RNN 모델**"
      ],
      "metadata": {
        "id": "x0X3Tbft1qt3"
      }
    },
    {
      "cell_type": "markdown",
      "source": [
        "**import package**"
      ],
      "metadata": {
        "id": "wsiby0k1pVIO"
      }
    },
    {
      "cell_type": "code",
      "execution_count": null,
      "metadata": {
        "id": "eE-K55lCoagd"
      },
      "outputs": [],
      "source": [
        "import torch\n",
        "import torch.nn as nn\n",
        "import torch.nn.functional as F\n",
        "from torch.utils.data import Dataset, DataLoader\n",
        "import torch.utils.data as data_utils\n",
        "import torchvision\n",
        "import torchvision.transforms as transforms\n",
        "\n",
        "import numpy as np\n",
        "import matplotlib.pyplot as plt\n",
        "import random"
      ]
    },
    {
      "cell_type": "markdown",
      "source": [
        "**GPU/CPU setting**\n",
        "\n",
        "\n",
        "1. 상단메뉴의 런타임 - 런타임 유형 변경 - 하드웨어 가속기 메뉴에서 GPU를 선택 - 저장"
      ],
      "metadata": {
        "id": "Tj3ii_F_pe_3"
      }
    },
    {
      "cell_type": "code",
      "source": [
        "device = 'cuda' if torch.cuda.is_available() else 'cpu'\n",
        "print(device)\n",
        "\n",
        "random.seed(777)\n",
        "torch.manual_seed(777)\n",
        "if device == 'cuda' :\n",
        "  torch.cuda.manual_seed_all(777)"
      ],
      "metadata": {
        "colab": {
          "base_uri": "https://localhost:8080/"
        },
        "id": "pSK0SRPspfw6",
        "outputId": "4f6b4c5e-5133-4c03-c425-a7e05387947a"
      },
      "execution_count": null,
      "outputs": [
        {
          "output_type": "stream",
          "name": "stdout",
          "text": [
            "cuda\n"
          ]
        }
      ]
    },
    {
      "cell_type": "markdown",
      "source": [
        "**데이터 불러오기**"
      ],
      "metadata": {
        "id": "L7DltH7Tpkcv"
      }
    },
    {
      "cell_type": "code",
      "source": [
        "import yfinance as yf\n",
        "\n",
        "aapl = yf.download('AAPL', start = '2019-01-01', end = '2023-12-31')\n",
        "aapl"
      ],
      "metadata": {
        "colab": {
          "base_uri": "https://localhost:8080/",
          "height": 467
        },
        "id": "ESGCR6LFplMH",
        "outputId": "caeb750f-75fe-4072-df2c-26baed81af2c"
      },
      "execution_count": null,
      "outputs": [
        {
          "output_type": "stream",
          "name": "stderr",
          "text": [
            "\r[*********************100%%**********************]  1 of 1 completed\n"
          ]
        },
        {
          "output_type": "execute_result",
          "data": {
            "text/plain": [
              "                  Open        High         Low       Close   Adj Close  \\\n",
              "Date                                                                     \n",
              "2019-01-02   38.722500   39.712502   38.557499   39.480000   37.793781   \n",
              "2019-01-03   35.994999   36.430000   35.500000   35.547501   34.029240   \n",
              "2019-01-04   36.132500   37.137501   35.950001   37.064999   35.481926   \n",
              "2019-01-07   37.174999   37.207500   36.474998   36.982498   35.402950   \n",
              "2019-01-08   37.389999   37.955002   37.130001   37.687500   36.077839   \n",
              "...                ...         ...         ...         ...         ...   \n",
              "2023-12-22  195.179993  195.410004  192.970001  193.600006  193.091385   \n",
              "2023-12-26  193.610001  193.889999  192.830002  193.050003  192.542816   \n",
              "2023-12-27  192.490005  193.500000  191.089996  193.149994  192.642548   \n",
              "2023-12-28  194.139999  194.660004  193.169998  193.580002  193.071426   \n",
              "2023-12-29  193.899994  194.399994  191.729996  192.529999  192.024185   \n",
              "\n",
              "               Volume  \n",
              "Date                   \n",
              "2019-01-02  148158800  \n",
              "2019-01-03  365248800  \n",
              "2019-01-04  234428400  \n",
              "2019-01-07  219111200  \n",
              "2019-01-08  164101200  \n",
              "...               ...  \n",
              "2023-12-22   37122800  \n",
              "2023-12-26   28919300  \n",
              "2023-12-27   48087700  \n",
              "2023-12-28   34049900  \n",
              "2023-12-29   42628800  \n",
              "\n",
              "[1258 rows x 6 columns]"
            ],
            "text/html": [
              "\n",
              "  <div id=\"df-74fa7454-fb98-4eeb-a31a-d1fedb2c1d32\" class=\"colab-df-container\">\n",
              "    <div>\n",
              "<style scoped>\n",
              "    .dataframe tbody tr th:only-of-type {\n",
              "        vertical-align: middle;\n",
              "    }\n",
              "\n",
              "    .dataframe tbody tr th {\n",
              "        vertical-align: top;\n",
              "    }\n",
              "\n",
              "    .dataframe thead th {\n",
              "        text-align: right;\n",
              "    }\n",
              "</style>\n",
              "<table border=\"1\" class=\"dataframe\">\n",
              "  <thead>\n",
              "    <tr style=\"text-align: right;\">\n",
              "      <th></th>\n",
              "      <th>Open</th>\n",
              "      <th>High</th>\n",
              "      <th>Low</th>\n",
              "      <th>Close</th>\n",
              "      <th>Adj Close</th>\n",
              "      <th>Volume</th>\n",
              "    </tr>\n",
              "    <tr>\n",
              "      <th>Date</th>\n",
              "      <th></th>\n",
              "      <th></th>\n",
              "      <th></th>\n",
              "      <th></th>\n",
              "      <th></th>\n",
              "      <th></th>\n",
              "    </tr>\n",
              "  </thead>\n",
              "  <tbody>\n",
              "    <tr>\n",
              "      <th>2019-01-02</th>\n",
              "      <td>38.722500</td>\n",
              "      <td>39.712502</td>\n",
              "      <td>38.557499</td>\n",
              "      <td>39.480000</td>\n",
              "      <td>37.793781</td>\n",
              "      <td>148158800</td>\n",
              "    </tr>\n",
              "    <tr>\n",
              "      <th>2019-01-03</th>\n",
              "      <td>35.994999</td>\n",
              "      <td>36.430000</td>\n",
              "      <td>35.500000</td>\n",
              "      <td>35.547501</td>\n",
              "      <td>34.029240</td>\n",
              "      <td>365248800</td>\n",
              "    </tr>\n",
              "    <tr>\n",
              "      <th>2019-01-04</th>\n",
              "      <td>36.132500</td>\n",
              "      <td>37.137501</td>\n",
              "      <td>35.950001</td>\n",
              "      <td>37.064999</td>\n",
              "      <td>35.481926</td>\n",
              "      <td>234428400</td>\n",
              "    </tr>\n",
              "    <tr>\n",
              "      <th>2019-01-07</th>\n",
              "      <td>37.174999</td>\n",
              "      <td>37.207500</td>\n",
              "      <td>36.474998</td>\n",
              "      <td>36.982498</td>\n",
              "      <td>35.402950</td>\n",
              "      <td>219111200</td>\n",
              "    </tr>\n",
              "    <tr>\n",
              "      <th>2019-01-08</th>\n",
              "      <td>37.389999</td>\n",
              "      <td>37.955002</td>\n",
              "      <td>37.130001</td>\n",
              "      <td>37.687500</td>\n",
              "      <td>36.077839</td>\n",
              "      <td>164101200</td>\n",
              "    </tr>\n",
              "    <tr>\n",
              "      <th>...</th>\n",
              "      <td>...</td>\n",
              "      <td>...</td>\n",
              "      <td>...</td>\n",
              "      <td>...</td>\n",
              "      <td>...</td>\n",
              "      <td>...</td>\n",
              "    </tr>\n",
              "    <tr>\n",
              "      <th>2023-12-22</th>\n",
              "      <td>195.179993</td>\n",
              "      <td>195.410004</td>\n",
              "      <td>192.970001</td>\n",
              "      <td>193.600006</td>\n",
              "      <td>193.091385</td>\n",
              "      <td>37122800</td>\n",
              "    </tr>\n",
              "    <tr>\n",
              "      <th>2023-12-26</th>\n",
              "      <td>193.610001</td>\n",
              "      <td>193.889999</td>\n",
              "      <td>192.830002</td>\n",
              "      <td>193.050003</td>\n",
              "      <td>192.542816</td>\n",
              "      <td>28919300</td>\n",
              "    </tr>\n",
              "    <tr>\n",
              "      <th>2023-12-27</th>\n",
              "      <td>192.490005</td>\n",
              "      <td>193.500000</td>\n",
              "      <td>191.089996</td>\n",
              "      <td>193.149994</td>\n",
              "      <td>192.642548</td>\n",
              "      <td>48087700</td>\n",
              "    </tr>\n",
              "    <tr>\n",
              "      <th>2023-12-28</th>\n",
              "      <td>194.139999</td>\n",
              "      <td>194.660004</td>\n",
              "      <td>193.169998</td>\n",
              "      <td>193.580002</td>\n",
              "      <td>193.071426</td>\n",
              "      <td>34049900</td>\n",
              "    </tr>\n",
              "    <tr>\n",
              "      <th>2023-12-29</th>\n",
              "      <td>193.899994</td>\n",
              "      <td>194.399994</td>\n",
              "      <td>191.729996</td>\n",
              "      <td>192.529999</td>\n",
              "      <td>192.024185</td>\n",
              "      <td>42628800</td>\n",
              "    </tr>\n",
              "  </tbody>\n",
              "</table>\n",
              "<p>1258 rows × 6 columns</p>\n",
              "</div>\n",
              "    <div class=\"colab-df-buttons\">\n",
              "\n",
              "  <div class=\"colab-df-container\">\n",
              "    <button class=\"colab-df-convert\" onclick=\"convertToInteractive('df-74fa7454-fb98-4eeb-a31a-d1fedb2c1d32')\"\n",
              "            title=\"Convert this dataframe to an interactive table.\"\n",
              "            style=\"display:none;\">\n",
              "\n",
              "  <svg xmlns=\"http://www.w3.org/2000/svg\" height=\"24px\" viewBox=\"0 -960 960 960\">\n",
              "    <path d=\"M120-120v-720h720v720H120Zm60-500h600v-160H180v160Zm220 220h160v-160H400v160Zm0 220h160v-160H400v160ZM180-400h160v-160H180v160Zm440 0h160v-160H620v160ZM180-180h160v-160H180v160Zm440 0h160v-160H620v160Z\"/>\n",
              "  </svg>\n",
              "    </button>\n",
              "\n",
              "  <style>\n",
              "    .colab-df-container {\n",
              "      display:flex;\n",
              "      gap: 12px;\n",
              "    }\n",
              "\n",
              "    .colab-df-convert {\n",
              "      background-color: #E8F0FE;\n",
              "      border: none;\n",
              "      border-radius: 50%;\n",
              "      cursor: pointer;\n",
              "      display: none;\n",
              "      fill: #1967D2;\n",
              "      height: 32px;\n",
              "      padding: 0 0 0 0;\n",
              "      width: 32px;\n",
              "    }\n",
              "\n",
              "    .colab-df-convert:hover {\n",
              "      background-color: #E2EBFA;\n",
              "      box-shadow: 0px 1px 2px rgba(60, 64, 67, 0.3), 0px 1px 3px 1px rgba(60, 64, 67, 0.15);\n",
              "      fill: #174EA6;\n",
              "    }\n",
              "\n",
              "    .colab-df-buttons div {\n",
              "      margin-bottom: 4px;\n",
              "    }\n",
              "\n",
              "    [theme=dark] .colab-df-convert {\n",
              "      background-color: #3B4455;\n",
              "      fill: #D2E3FC;\n",
              "    }\n",
              "\n",
              "    [theme=dark] .colab-df-convert:hover {\n",
              "      background-color: #434B5C;\n",
              "      box-shadow: 0px 1px 3px 1px rgba(0, 0, 0, 0.15);\n",
              "      filter: drop-shadow(0px 1px 2px rgba(0, 0, 0, 0.3));\n",
              "      fill: #FFFFFF;\n",
              "    }\n",
              "  </style>\n",
              "\n",
              "    <script>\n",
              "      const buttonEl =\n",
              "        document.querySelector('#df-74fa7454-fb98-4eeb-a31a-d1fedb2c1d32 button.colab-df-convert');\n",
              "      buttonEl.style.display =\n",
              "        google.colab.kernel.accessAllowed ? 'block' : 'none';\n",
              "\n",
              "      async function convertToInteractive(key) {\n",
              "        const element = document.querySelector('#df-74fa7454-fb98-4eeb-a31a-d1fedb2c1d32');\n",
              "        const dataTable =\n",
              "          await google.colab.kernel.invokeFunction('convertToInteractive',\n",
              "                                                    [key], {});\n",
              "        if (!dataTable) return;\n",
              "\n",
              "        const docLinkHtml = 'Like what you see? Visit the ' +\n",
              "          '<a target=\"_blank\" href=https://colab.research.google.com/notebooks/data_table.ipynb>data table notebook</a>'\n",
              "          + ' to learn more about interactive tables.';\n",
              "        element.innerHTML = '';\n",
              "        dataTable['output_type'] = 'display_data';\n",
              "        await google.colab.output.renderOutput(dataTable, element);\n",
              "        const docLink = document.createElement('div');\n",
              "        docLink.innerHTML = docLinkHtml;\n",
              "        element.appendChild(docLink);\n",
              "      }\n",
              "    </script>\n",
              "  </div>\n",
              "\n",
              "\n",
              "<div id=\"df-7469a015-8967-4946-9e55-a3606c22d208\">\n",
              "  <button class=\"colab-df-quickchart\" onclick=\"quickchart('df-7469a015-8967-4946-9e55-a3606c22d208')\"\n",
              "            title=\"Suggest charts\"\n",
              "            style=\"display:none;\">\n",
              "\n",
              "<svg xmlns=\"http://www.w3.org/2000/svg\" height=\"24px\"viewBox=\"0 0 24 24\"\n",
              "     width=\"24px\">\n",
              "    <g>\n",
              "        <path d=\"M19 3H5c-1.1 0-2 .9-2 2v14c0 1.1.9 2 2 2h14c1.1 0 2-.9 2-2V5c0-1.1-.9-2-2-2zM9 17H7v-7h2v7zm4 0h-2V7h2v10zm4 0h-2v-4h2v4z\"/>\n",
              "    </g>\n",
              "</svg>\n",
              "  </button>\n",
              "\n",
              "<style>\n",
              "  .colab-df-quickchart {\n",
              "      --bg-color: #E8F0FE;\n",
              "      --fill-color: #1967D2;\n",
              "      --hover-bg-color: #E2EBFA;\n",
              "      --hover-fill-color: #174EA6;\n",
              "      --disabled-fill-color: #AAA;\n",
              "      --disabled-bg-color: #DDD;\n",
              "  }\n",
              "\n",
              "  [theme=dark] .colab-df-quickchart {\n",
              "      --bg-color: #3B4455;\n",
              "      --fill-color: #D2E3FC;\n",
              "      --hover-bg-color: #434B5C;\n",
              "      --hover-fill-color: #FFFFFF;\n",
              "      --disabled-bg-color: #3B4455;\n",
              "      --disabled-fill-color: #666;\n",
              "  }\n",
              "\n",
              "  .colab-df-quickchart {\n",
              "    background-color: var(--bg-color);\n",
              "    border: none;\n",
              "    border-radius: 50%;\n",
              "    cursor: pointer;\n",
              "    display: none;\n",
              "    fill: var(--fill-color);\n",
              "    height: 32px;\n",
              "    padding: 0;\n",
              "    width: 32px;\n",
              "  }\n",
              "\n",
              "  .colab-df-quickchart:hover {\n",
              "    background-color: var(--hover-bg-color);\n",
              "    box-shadow: 0 1px 2px rgba(60, 64, 67, 0.3), 0 1px 3px 1px rgba(60, 64, 67, 0.15);\n",
              "    fill: var(--button-hover-fill-color);\n",
              "  }\n",
              "\n",
              "  .colab-df-quickchart-complete:disabled,\n",
              "  .colab-df-quickchart-complete:disabled:hover {\n",
              "    background-color: var(--disabled-bg-color);\n",
              "    fill: var(--disabled-fill-color);\n",
              "    box-shadow: none;\n",
              "  }\n",
              "\n",
              "  .colab-df-spinner {\n",
              "    border: 2px solid var(--fill-color);\n",
              "    border-color: transparent;\n",
              "    border-bottom-color: var(--fill-color);\n",
              "    animation:\n",
              "      spin 1s steps(1) infinite;\n",
              "  }\n",
              "\n",
              "  @keyframes spin {\n",
              "    0% {\n",
              "      border-color: transparent;\n",
              "      border-bottom-color: var(--fill-color);\n",
              "      border-left-color: var(--fill-color);\n",
              "    }\n",
              "    20% {\n",
              "      border-color: transparent;\n",
              "      border-left-color: var(--fill-color);\n",
              "      border-top-color: var(--fill-color);\n",
              "    }\n",
              "    30% {\n",
              "      border-color: transparent;\n",
              "      border-left-color: var(--fill-color);\n",
              "      border-top-color: var(--fill-color);\n",
              "      border-right-color: var(--fill-color);\n",
              "    }\n",
              "    40% {\n",
              "      border-color: transparent;\n",
              "      border-right-color: var(--fill-color);\n",
              "      border-top-color: var(--fill-color);\n",
              "    }\n",
              "    60% {\n",
              "      border-color: transparent;\n",
              "      border-right-color: var(--fill-color);\n",
              "    }\n",
              "    80% {\n",
              "      border-color: transparent;\n",
              "      border-right-color: var(--fill-color);\n",
              "      border-bottom-color: var(--fill-color);\n",
              "    }\n",
              "    90% {\n",
              "      border-color: transparent;\n",
              "      border-bottom-color: var(--fill-color);\n",
              "    }\n",
              "  }\n",
              "</style>\n",
              "\n",
              "  <script>\n",
              "    async function quickchart(key) {\n",
              "      const quickchartButtonEl =\n",
              "        document.querySelector('#' + key + ' button');\n",
              "      quickchartButtonEl.disabled = true;  // To prevent multiple clicks.\n",
              "      quickchartButtonEl.classList.add('colab-df-spinner');\n",
              "      try {\n",
              "        const charts = await google.colab.kernel.invokeFunction(\n",
              "            'suggestCharts', [key], {});\n",
              "      } catch (error) {\n",
              "        console.error('Error during call to suggestCharts:', error);\n",
              "      }\n",
              "      quickchartButtonEl.classList.remove('colab-df-spinner');\n",
              "      quickchartButtonEl.classList.add('colab-df-quickchart-complete');\n",
              "    }\n",
              "    (() => {\n",
              "      let quickchartButtonEl =\n",
              "        document.querySelector('#df-7469a015-8967-4946-9e55-a3606c22d208 button');\n",
              "      quickchartButtonEl.style.display =\n",
              "        google.colab.kernel.accessAllowed ? 'block' : 'none';\n",
              "    })();\n",
              "  </script>\n",
              "</div>\n",
              "\n",
              "  <div id=\"id_c2c18775-a64d-4e57-bc05-15ea471f14de\">\n",
              "    <style>\n",
              "      .colab-df-generate {\n",
              "        background-color: #E8F0FE;\n",
              "        border: none;\n",
              "        border-radius: 50%;\n",
              "        cursor: pointer;\n",
              "        display: none;\n",
              "        fill: #1967D2;\n",
              "        height: 32px;\n",
              "        padding: 0 0 0 0;\n",
              "        width: 32px;\n",
              "      }\n",
              "\n",
              "      .colab-df-generate:hover {\n",
              "        background-color: #E2EBFA;\n",
              "        box-shadow: 0px 1px 2px rgba(60, 64, 67, 0.3), 0px 1px 3px 1px rgba(60, 64, 67, 0.15);\n",
              "        fill: #174EA6;\n",
              "      }\n",
              "\n",
              "      [theme=dark] .colab-df-generate {\n",
              "        background-color: #3B4455;\n",
              "        fill: #D2E3FC;\n",
              "      }\n",
              "\n",
              "      [theme=dark] .colab-df-generate:hover {\n",
              "        background-color: #434B5C;\n",
              "        box-shadow: 0px 1px 3px 1px rgba(0, 0, 0, 0.15);\n",
              "        filter: drop-shadow(0px 1px 2px rgba(0, 0, 0, 0.3));\n",
              "        fill: #FFFFFF;\n",
              "      }\n",
              "    </style>\n",
              "    <button class=\"colab-df-generate\" onclick=\"generateWithVariable('aapl')\"\n",
              "            title=\"Generate code using this dataframe.\"\n",
              "            style=\"display:none;\">\n",
              "\n",
              "  <svg xmlns=\"http://www.w3.org/2000/svg\" height=\"24px\"viewBox=\"0 0 24 24\"\n",
              "       width=\"24px\">\n",
              "    <path d=\"M7,19H8.4L18.45,9,17,7.55,7,17.6ZM5,21V16.75L18.45,3.32a2,2,0,0,1,2.83,0l1.4,1.43a1.91,1.91,0,0,1,.58,1.4,1.91,1.91,0,0,1-.58,1.4L9.25,21ZM18.45,9,17,7.55Zm-12,3A5.31,5.31,0,0,0,4.9,8.1,5.31,5.31,0,0,0,1,6.5,5.31,5.31,0,0,0,4.9,4.9,5.31,5.31,0,0,0,6.5,1,5.31,5.31,0,0,0,8.1,4.9,5.31,5.31,0,0,0,12,6.5,5.46,5.46,0,0,0,6.5,12Z\"/>\n",
              "  </svg>\n",
              "    </button>\n",
              "    <script>\n",
              "      (() => {\n",
              "      const buttonEl =\n",
              "        document.querySelector('#id_c2c18775-a64d-4e57-bc05-15ea471f14de button.colab-df-generate');\n",
              "      buttonEl.style.display =\n",
              "        google.colab.kernel.accessAllowed ? 'block' : 'none';\n",
              "\n",
              "      buttonEl.onclick = () => {\n",
              "        google.colab.notebook.generateWithVariable('aapl');\n",
              "      }\n",
              "      })();\n",
              "    </script>\n",
              "  </div>\n",
              "\n",
              "    </div>\n",
              "  </div>\n"
            ],
            "application/vnd.google.colaboratory.intrinsic+json": {
              "type": "dataframe",
              "variable_name": "aapl",
              "summary": "{\n  \"name\": \"aapl\",\n  \"rows\": 1258,\n  \"fields\": [\n    {\n      \"column\": \"Date\",\n      \"properties\": {\n        \"dtype\": \"date\",\n        \"min\": \"2019-01-02 00:00:00\",\n        \"max\": \"2023-12-29 00:00:00\",\n        \"num_unique_values\": 1258,\n        \"samples\": [\n          \"2021-03-25 00:00:00\",\n          \"2019-05-29 00:00:00\",\n          \"2019-03-18 00:00:00\"\n        ],\n        \"semantic_type\": \"\",\n        \"description\": \"\"\n      }\n    },\n    {\n      \"column\": \"Open\",\n      \"properties\": {\n        \"dtype\": \"number\",\n        \"std\": 46.51268081006446,\n        \"min\": 35.994998931884766,\n        \"max\": 198.02000427246094,\n        \"num_unique_values\": 1201,\n        \"samples\": [\n          71.20500183105469,\n          164.27000427246094,\n          67.20249938964844\n        ],\n        \"semantic_type\": \"\",\n        \"description\": \"\"\n      }\n    },\n    {\n      \"column\": \"High\",\n      \"properties\": {\n        \"dtype\": \"number\",\n        \"std\": 46.93645265701861,\n        \"min\": 36.43000030517578,\n        \"max\": 199.6199951171875,\n        \"num_unique_values\": 1204,\n        \"samples\": [\n          52.119998931884766,\n          53.337501525878906,\n          165.52000427246094\n        ],\n        \"semantic_type\": \"\",\n        \"description\": \"\"\n      }\n    },\n    {\n      \"column\": \"Low\",\n      \"properties\": {\n        \"dtype\": \"number\",\n        \"std\": 46.09129945852142,\n        \"min\": 35.5,\n        \"max\": 197.0,\n        \"num_unique_values\": 1213,\n        \"samples\": [\n          95.25749969482422,\n          155.97999572753906,\n          43.48500061035156\n        ],\n        \"semantic_type\": \"\",\n        \"description\": \"\"\n      }\n    },\n    {\n      \"column\": \"Close\",\n      \"properties\": {\n        \"dtype\": \"number\",\n        \"std\": 46.52738716977396,\n        \"min\": 35.54750061035156,\n        \"max\": 198.11000061035156,\n        \"num_unique_values\": 1206,\n        \"samples\": [\n          44.345001220703125,\n          77.83499908447266,\n          160.07000732421875\n        ],\n        \"semantic_type\": \"\",\n        \"description\": \"\"\n      }\n    },\n    {\n      \"column\": \"Adj Close\",\n      \"properties\": {\n        \"dtype\": \"number\",\n        \"std\": 46.69533427289527,\n        \"min\": 34.029239654541016,\n        \"max\": 197.5895233154297,\n        \"num_unique_values\": 1246,\n        \"samples\": [\n          168.80160522460938,\n          113.98080444335938,\n          187.0665283203125\n        ],\n        \"semantic_type\": \"\",\n        \"description\": \"\"\n      }\n    },\n    {\n      \"column\": \"Volume\",\n      \"properties\": {\n        \"dtype\": \"number\",\n        \"std\": 52610869,\n        \"min\": 24048300,\n        \"max\": 426510000,\n        \"num_unique_values\": 1255,\n        \"samples\": [\n          57224100,\n          84873600,\n          104879200\n        ],\n        \"semantic_type\": \"\",\n        \"description\": \"\"\n      }\n    }\n  ]\n}"
            }
          },
          "metadata": {},
          "execution_count": 3
        }
      ]
    },
    {
      "cell_type": "markdown",
      "source": [
        "**데이터 시각화**"
      ],
      "metadata": {
        "id": "reKG-DkHqOh1"
      }
    },
    {
      "cell_type": "code",
      "source": [
        "import pandas as pd\n",
        "\n",
        "df_aapl = pd.DataFrame(aapl['Close'])\n",
        "df_aapl.plot()"
      ],
      "metadata": {
        "colab": {
          "base_uri": "https://localhost:8080/",
          "height": 439
        },
        "id": "a_RpynxpqXZc",
        "outputId": "ffb76ba8-0367-43fe-d93e-939908053359"
      },
      "execution_count": null,
      "outputs": [
        {
          "output_type": "execute_result",
          "data": {
            "text/plain": [
              "<Axes: xlabel='Date'>"
            ]
          },
          "metadata": {},
          "execution_count": 4
        },
        {
          "output_type": "display_data",
          "data": {
            "text/plain": [
              "<Figure size 640x480 with 1 Axes>"
            ],
            "image/png": "[encoded data removed]"
          },
          "metadata": {}
        }
      ]
    },
    {
      "cell_type": "markdown",
      "source": [
        "**데이터 전처리**\n",
        "\n",
        "train용 : 2019 ~ 2022년도 데이터  \n",
        "test용 : 2023 ~ 2024년도 데이터\n",
        "\n",
        "예측을 위해 학습할 data 수 : 15"
      ],
      "metadata": {
        "id": "XNRL_hOirTFN"
      }
    },
    {
      "cell_type": "code",
      "source": [
        "from sklearn.preprocessing import MinMaxScaler\n",
        "\n",
        "data_aapl = df_aapl.values\n",
        "scaler = MinMaxScaler(feature_range=(0,1))\n",
        "data_aapl = scaler.fit_transform(data_aapl)\n",
        "\n",
        "train_ratio = 0.8\n",
        "split = int(train_ratio*len(data_aapl))\n",
        "aapl_train = data_aapl[:split, :]\n",
        "aapl_test = data_aapl[split:, :]\n",
        "\n",
        "print(aapl_train.shape)\n",
        "print(aapl_test.shape)"
      ],
      "metadata": {
        "colab": {
          "base_uri": "https://localhost:8080/"
        },
        "id": "0evqfGAArZM_",
        "outputId": "8d6f06a8-d0e6-4929-b797-b9d344ea3b71"
      },
      "execution_count": null,
      "outputs": [
        {
          "output_type": "stream",
          "name": "stdout",
          "text": [
            "(1006, 1)\n",
            "(252, 1)\n"
          ]
        }
      ]
    },
    {
      "cell_type": "code",
      "source": [
        "sequence_length = 15\n",
        "\n",
        "x_train, y_train = [], []\n",
        "for i in range(sequence_length, len(aapl_train)) :\n",
        "  x_train.append(aapl_train[i-sequence_length:i,0])\n",
        "  y_train.append(aapl_train[i,0])\n",
        "\n",
        "x_test, y_test = [], []\n",
        "for i in range(sequence_length, len(aapl_test)) :\n",
        "  x_test.append(aapl_test[i-sequence_length:i,0])\n",
        "  y_test.append(aapl_test[i,0])\n",
        "\n",
        "x_train = np.array(x_train)\n",
        "x_train = np.reshape(x_train, (x_train.shape[0], x_train.shape[1],1))\n",
        "x_train = torch.FloatTensor(x_train)\n",
        "y_train = np.array(y_train)\n",
        "y_train = np.reshape(y_train, (y_train.shape[0],1))\n",
        "y_train = torch.FloatTensor(y_train)\n",
        "\n",
        "x_test = np.array(x_test)\n",
        "x_test = np.reshape(x_test, (x_test.shape[0], x_test.shape[1],1))\n",
        "x_test = torch.FloatTensor(x_test)\n",
        "y_test = np.array(y_test)\n",
        "y_test = np.reshape(y_test, (y_test.shape[0],1))\n",
        "y_test = torch.FloatTensor(y_test)\n",
        "\n",
        "print(x_train.shape, y_train.shape, x_test.shape, y_test.shape)"
      ],
      "metadata": {
        "colab": {
          "base_uri": "https://localhost:8080/"
        },
        "id": "j2I_z0Bnslol",
        "outputId": "70c6fd95-cfa6-46d2-f6c1-c9ad58c44732"
      },
      "execution_count": null,
      "outputs": [
        {
          "output_type": "stream",
          "name": "stdout",
          "text": [
            "torch.Size([991, 15, 1]) torch.Size([991, 1]) torch.Size([237, 15, 1]) torch.Size([237, 1])\n"
          ]
        }
      ]
    },
    {
      "cell_type": "markdown",
      "source": [
        "**데이터를 배치화하기**"
      ],
      "metadata": {
        "id": "5fx1h2KNujIO"
      }
    },
    {
      "cell_type": "code",
      "source": [
        "batch_size = 32\n",
        "\n",
        "train_dataset = torch.utils.data.TensorDataset(x_train, y_train)\n",
        "test_dataset = torch.utils.data.TensorDataset(x_test, y_test)\n",
        "\n",
        "train_loader = DataLoader(dataset = train_dataset, batch_size = batch_size, shuffle=False)\n",
        "test_loader = DataLoader(dataset = test_dataset, batch_size = batch_size, shuffle=False)"
      ],
      "metadata": {
        "id": "p7QcSSE-ujpr"
      },
      "execution_count": null,
      "outputs": []
    },
    {
      "cell_type": "markdown",
      "source": [
        "**Model 생성**\n",
        "\n",
        "-- Hidden layer 수 : 2개\n",
        "\n",
        "-- 활성화 함수 : Sigmoid\n",
        "\n",
        "\n",
        "-- Optimization 기법 : Adam"
      ],
      "metadata": {
        "id": "D_llatfpu1dm"
      }
    },
    {
      "cell_type": "code",
      "source": [
        "class RNN(nn.Module) :\n",
        "  def __init__(self, input_size, hidden_size, sequence_length, num_layers, device) :\n",
        "    super(RNN, self).__init__()\n",
        "    self.input_size = input_size\n",
        "    self.hidden_size = hidden_size\n",
        "    self.sequence_length = sequence_length\n",
        "    self.num_layers = num_layers\n",
        "    self.device = device\n",
        "    self.rnn = nn.RNN(input_size, hidden_size, num_layers, batch_first = True)\n",
        "    self.fc = nn.Sequential(nn.Linear(hidden_size*sequence_length,1), nn.Sigmoid())\n",
        "\n",
        "  def forward(self, x) :\n",
        "    h0 = torch.zeros(self.num_layers, x.size()[0], self.hidden_size).to(self.device)\n",
        "    out, _ = self.rnn(x,h0)\n",
        "    out = out.reshape(out.shape[0],-1)\n",
        "    out = self.fc(out)\n",
        "\n",
        "    return out"
      ],
      "metadata": {
        "id": "LO2dQMteu8g2"
      },
      "execution_count": null,
      "outputs": []
    },
    {
      "cell_type": "code",
      "source": [
        "# 파라미터 정의 -> input_size 1로 설정 / Hidden layer 수는 2로 설정 / Hidden layer node 수는 5로 설정\n",
        "input_size = 1\n",
        "num_layers = 2\n",
        "hidden_size = 5\n",
        "\n",
        "model = RNN(input_size=input_size,hidden_size = hidden_size,sequence_length = sequence_length,num_layers = num_layers, device = device).to(device)\n",
        "model"
      ],
      "metadata": {
        "colab": {
          "base_uri": "https://localhost:8080/"
        },
        "id": "xMu3rNXZwJMZ",
        "outputId": "f3955e80-0ef9-4a0f-80c9-049d0936a4b1"
      },
      "execution_count": null,
      "outputs": [
        {
          "output_type": "execute_result",
          "data": {
            "text/plain": [
              "RNN(\n",
              "  (rnn): RNN(1, 5, num_layers=2, batch_first=True)\n",
              "  (fc): Sequential(\n",
              "    (0): Linear(in_features=75, out_features=1, bias=True)\n",
              "    (1): Sigmoid()\n",
              "  )\n",
              ")"
            ]
          },
          "metadata": {},
          "execution_count": 9
        }
      ]
    },
    {
      "cell_type": "code",
      "source": [
        "# 파라미터 정의 -> 반복횟수 200으로 설정 / learning_rate는 0.01로 설정\n",
        "\n",
        "num_epochs = 200\n",
        "learning_rate = 0.01\n",
        "\n",
        "# 손실함수, 최적화기법 정의\n",
        "criterion = nn.MSELoss()\n",
        "optimizer = torch.optim.Adam(model.parameters(), lr = learning_rate)"
      ],
      "metadata": {
        "id": "loDcIDeJwrLy"
      },
      "execution_count": null,
      "outputs": []
    },
    {
      "cell_type": "markdown",
      "source": [
        "**Train 과정**"
      ],
      "metadata": {
        "id": "j0AXhcDVw_dn"
      }
    },
    {
      "cell_type": "code",
      "source": [
        "loss_list = []\n",
        "for epoch_num in range(num_epochs) :\n",
        "  average_cost = 0\n",
        "\n",
        "  for batch_idx, (x_data, y_label) in enumerate(train_loader) :\n",
        "    num_of_mini_batch = len(train_loader)\n",
        "    x_data = x_data.to(device)\n",
        "    label = y_label.to(device)\n",
        "\n",
        "    optimizer.zero_grad()\n",
        "    y_predict = model(x_data)\n",
        "    loss = criterion(y_predict, label)\n",
        "    loss.backward()\n",
        "    optimizer.step()\n",
        "\n",
        "    average_cost = average_cost + (loss.item()/num_of_mini_batch)\n",
        "    loss_list.append(loss)\n",
        "\n",
        "  print(\"Epoch {} Loss {:.5f}\".format((epoch_num+1), average_cost))"
      ],
      "metadata": {
        "colab": {
          "base_uri": "https://localhost:8080/"
        },
        "id": "Ir3vR-7Nw-9y",
        "outputId": "4142f233-b49a-4239-ccf8-64ebd011cb31"
      },
      "execution_count": null,
      "outputs": [
        {
          "output_type": "stream",
          "name": "stdout",
          "text": [
            "Epoch 1 Loss 0.16775\n",
            "Epoch 2 Loss 0.12822\n",
            "Epoch 3 Loss 0.08860\n",
            "Epoch 4 Loss 0.05859\n",
            "Epoch 5 Loss 0.00959\n",
            "Epoch 6 Loss 0.00760\n",
            "Epoch 7 Loss 0.00398\n",
            "Epoch 8 Loss 0.00346\n",
            "Epoch 9 Loss 0.00322\n",
            "Epoch 10 Loss 0.00305\n",
            "Epoch 11 Loss 0.00298\n",
            "Epoch 12 Loss 0.00289\n",
            "Epoch 13 Loss 0.00286\n",
            "Epoch 14 Loss 0.00280\n",
            "Epoch 15 Loss 0.00277\n",
            "Epoch 16 Loss 0.00273\n",
            "Epoch 17 Loss 0.00272\n",
            "Epoch 18 Loss 0.00270\n",
            "Epoch 19 Loss 0.00271\n",
            "Epoch 20 Loss 0.00272\n",
            "Epoch 21 Loss 0.00276\n",
            "Epoch 22 Loss 0.00280\n",
            "Epoch 23 Loss 0.00284\n",
            "Epoch 24 Loss 0.00290\n",
            "Epoch 25 Loss 0.00295\n",
            "Epoch 26 Loss 0.00301\n",
            "Epoch 27 Loss 0.00306\n",
            "Epoch 28 Loss 0.00310\n",
            "Epoch 29 Loss 0.00313\n",
            "Epoch 30 Loss 0.00316\n",
            "Epoch 31 Loss 0.00316\n",
            "Epoch 32 Loss 0.00314\n",
            "Epoch 33 Loss 0.00307\n",
            "Epoch 34 Loss 0.00292\n",
            "Epoch 35 Loss 0.00261\n",
            "Epoch 36 Loss 0.00209\n",
            "Epoch 37 Loss 0.00139\n",
            "Epoch 38 Loss 0.00091\n",
            "Epoch 39 Loss 0.00113\n",
            "Epoch 40 Loss 0.00292\n",
            "Epoch 41 Loss 0.00745\n",
            "Epoch 42 Loss 0.00342\n",
            "Epoch 43 Loss 0.00837\n",
            "Epoch 44 Loss 0.01063\n",
            "Epoch 45 Loss 0.03147\n",
            "Epoch 46 Loss 0.00607\n",
            "Epoch 47 Loss 0.00878\n",
            "Epoch 48 Loss 0.03242\n",
            "Epoch 49 Loss 0.00350\n",
            "Epoch 50 Loss 0.00291\n",
            "Epoch 51 Loss 0.00289\n",
            "Epoch 52 Loss 0.00161\n",
            "Epoch 53 Loss 0.00214\n",
            "Epoch 54 Loss 0.00310\n",
            "Epoch 55 Loss 0.00313\n",
            "Epoch 56 Loss 0.00198\n",
            "Epoch 57 Loss 0.00216\n",
            "Epoch 58 Loss 0.00165\n",
            "Epoch 59 Loss 0.00158\n",
            "Epoch 60 Loss 0.00157\n",
            "Epoch 61 Loss 0.00130\n",
            "Epoch 62 Loss 0.00208\n",
            "Epoch 63 Loss 0.00323\n",
            "Epoch 64 Loss 0.00368\n",
            "Epoch 65 Loss 0.00333\n",
            "Epoch 66 Loss 0.00217\n",
            "Epoch 67 Loss 0.00181\n",
            "Epoch 68 Loss 0.00177\n",
            "Epoch 69 Loss 0.00170\n",
            "Epoch 70 Loss 0.00155\n",
            "Epoch 71 Loss 0.00161\n",
            "Epoch 72 Loss 0.00146\n",
            "Epoch 73 Loss 0.00153\n",
            "Epoch 74 Loss 0.00149\n",
            "Epoch 75 Loss 0.00155\n",
            "Epoch 76 Loss 0.00168\n",
            "Epoch 77 Loss 0.00134\n",
            "Epoch 78 Loss 0.00095\n",
            "Epoch 79 Loss 0.00230\n",
            "Epoch 80 Loss 0.00287\n",
            "Epoch 81 Loss 0.00243\n",
            "Epoch 82 Loss 0.00151\n",
            "Epoch 83 Loss 0.00175\n",
            "Epoch 84 Loss 0.00189\n",
            "Epoch 85 Loss 0.00180\n",
            "Epoch 86 Loss 0.00223\n",
            "Epoch 87 Loss 0.00197\n",
            "Epoch 88 Loss 0.00161\n",
            "Epoch 89 Loss 0.00150\n",
            "Epoch 90 Loss 0.00164\n",
            "Epoch 91 Loss 0.00163\n",
            "Epoch 92 Loss 0.00162\n",
            "Epoch 93 Loss 0.00176\n",
            "Epoch 94 Loss 0.00206\n",
            "Epoch 95 Loss 0.00266\n",
            "Epoch 96 Loss 0.00311\n",
            "Epoch 97 Loss 0.00219\n",
            "Epoch 98 Loss 0.00156\n",
            "Epoch 99 Loss 0.00138\n",
            "Epoch 100 Loss 0.00181\n",
            "Epoch 101 Loss 0.00145\n",
            "Epoch 102 Loss 0.00155\n",
            "Epoch 103 Loss 0.00166\n",
            "Epoch 104 Loss 0.00170\n",
            "Epoch 105 Loss 0.00176\n",
            "Epoch 106 Loss 0.00192\n",
            "Epoch 107 Loss 0.00196\n",
            "Epoch 108 Loss 0.00175\n",
            "Epoch 109 Loss 0.00166\n",
            "Epoch 110 Loss 0.00165\n",
            "Epoch 111 Loss 0.00157\n",
            "Epoch 112 Loss 0.00145\n",
            "Epoch 113 Loss 0.00145\n",
            "Epoch 114 Loss 0.00162\n",
            "Epoch 115 Loss 0.00209\n",
            "Epoch 116 Loss 0.00257\n",
            "Epoch 117 Loss 0.00351\n",
            "Epoch 118 Loss 0.00340\n",
            "Epoch 119 Loss 0.00395\n",
            "Epoch 120 Loss 0.00250\n",
            "Epoch 121 Loss 0.00126\n",
            "Epoch 122 Loss 0.00070\n",
            "Epoch 123 Loss 0.00108\n",
            "Epoch 124 Loss 0.00296\n",
            "Epoch 125 Loss 0.00165\n",
            "Epoch 126 Loss 0.00664\n",
            "Epoch 127 Loss 0.00348\n",
            "Epoch 128 Loss 0.00288\n",
            "Epoch 129 Loss 0.00180\n",
            "Epoch 130 Loss 0.00067\n",
            "Epoch 131 Loss 0.00056\n",
            "Epoch 132 Loss 0.00052\n",
            "Epoch 133 Loss 0.00069\n",
            "Epoch 134 Loss 0.00064\n",
            "Epoch 135 Loss 0.00055\n",
            "Epoch 136 Loss 0.00049\n",
            "Epoch 137 Loss 0.00053\n",
            "Epoch 138 Loss 0.00061\n",
            "Epoch 139 Loss 0.00063\n",
            "Epoch 140 Loss 0.00054\n",
            "Epoch 141 Loss 0.00051\n",
            "Epoch 142 Loss 0.00057\n",
            "Epoch 143 Loss 0.00076\n",
            "Epoch 144 Loss 0.00062\n",
            "Epoch 145 Loss 0.00054\n",
            "Epoch 146 Loss 0.00065\n",
            "Epoch 147 Loss 0.00102\n",
            "Epoch 148 Loss 0.00166\n",
            "Epoch 149 Loss 0.00336\n",
            "Epoch 150 Loss 0.00345\n",
            "Epoch 151 Loss 0.03344\n",
            "Epoch 152 Loss 0.04558\n",
            "Epoch 153 Loss 0.00600\n",
            "Epoch 154 Loss 0.00366\n",
            "Epoch 155 Loss 0.00257\n",
            "Epoch 156 Loss 0.00215\n",
            "Epoch 157 Loss 0.00575\n",
            "Epoch 158 Loss 0.04112\n",
            "Epoch 159 Loss 0.03024\n",
            "Epoch 160 Loss 0.01302\n",
            "Epoch 161 Loss 0.00565\n",
            "Epoch 162 Loss 0.00524\n",
            "Epoch 163 Loss 0.00343\n",
            "Epoch 164 Loss 0.00257\n",
            "Epoch 165 Loss 0.00315\n",
            "Epoch 166 Loss 0.02495\n",
            "Epoch 167 Loss 0.09731\n",
            "Epoch 168 Loss 0.00574\n",
            "Epoch 169 Loss 0.00420\n",
            "Epoch 170 Loss 0.00378\n",
            "Epoch 171 Loss 0.00693\n",
            "Epoch 172 Loss 0.00348\n",
            "Epoch 173 Loss 0.00449\n",
            "Epoch 174 Loss 0.00534\n",
            "Epoch 175 Loss 0.00671\n",
            "Epoch 176 Loss 0.00511\n",
            "Epoch 177 Loss 0.00546\n",
            "Epoch 178 Loss 0.00404\n",
            "Epoch 179 Loss 0.00359\n",
            "Epoch 180 Loss 0.00253\n",
            "Epoch 181 Loss 0.00213\n",
            "Epoch 182 Loss 0.00191\n",
            "Epoch 183 Loss 0.00169\n",
            "Epoch 184 Loss 0.00167\n",
            "Epoch 185 Loss 0.00141\n",
            "Epoch 186 Loss 0.00131\n",
            "Epoch 187 Loss 0.00109\n",
            "Epoch 188 Loss 0.00106\n",
            "Epoch 189 Loss 0.00089\n",
            "Epoch 190 Loss 0.00083\n",
            "Epoch 191 Loss 0.00096\n",
            "Epoch 192 Loss 0.00082\n",
            "Epoch 193 Loss 0.00080\n",
            "Epoch 194 Loss 0.00090\n",
            "Epoch 195 Loss 0.00076\n",
            "Epoch 196 Loss 0.00078\n",
            "Epoch 197 Loss 0.00089\n",
            "Epoch 198 Loss 0.00072\n",
            "Epoch 199 Loss 0.00077\n",
            "Epoch 200 Loss 0.00099\n"
          ]
        }
      ]
    },
    {
      "cell_type": "markdown",
      "source": [
        "**Validation 과정**"
      ],
      "metadata": {
        "id": "v7jW_JsMx41a"
      }
    },
    {
      "cell_type": "code",
      "source": [
        "with torch.no_grad() :\n",
        "  num_total_data = 0\n",
        "  correct = 0\n",
        "  for batch_idx, (data, labels) in enumerate(test_loader) :\n",
        "\n",
        "    num_of_mini_batch = len(test_loader)\n",
        "\n",
        "    data = data.to(device)\n",
        "    labels = labels.to(device)\n",
        "    outputs = model(data)\n",
        "    loss = criterion(outputs, labels)\n",
        "\n",
        "    average_cost = average_cost + (loss.item()/num_of_mini_batch)\n",
        "    loss_list.append(loss)\n",
        "\n",
        "print(\"Test Loss {:.5f}\".format(average_cost))"
      ],
      "metadata": {
        "colab": {
          "base_uri": "https://localhost:8080/"
        },
        "id": "Ozagbnlfx5KX",
        "outputId": "ce18fc5e-e93e-4976-cf50-589fa3500ab2"
      },
      "execution_count": null,
      "outputs": [
        {
          "output_type": "stream",
          "name": "stdout",
          "text": [
            "Test Loss 0.00253\n"
          ]
        }
      ]
    },
    {
      "cell_type": "markdown",
      "source": [
        "**예측/실제 데이터 비교**"
      ],
      "metadata": {
        "id": "aJaUQq0Cz9Lh"
      }
    },
    {
      "cell_type": "code",
      "source": [
        "with torch.no_grad() :\n",
        "  train_pred= []\n",
        "  test_pred = []\n",
        "\n",
        "  for batch_idx, (x_data, y_label) in enumerate(train_loader) :\n",
        "    x_data = x_data.to(device)\n",
        "    label = y_label.to(device)\n",
        "    y_predict = model(x_data)\n",
        "    train_pred += y_predict.cpu().numpy().tolist()\n",
        "\n",
        "  for batch_idx, (x_data, y_label) in enumerate(test_loader) :\n",
        "    x_data = x_data.to(device)\n",
        "    label = y_label.to(device)\n",
        "    y_predict = model(x_data)\n",
        "    test_pred += y_predict.cpu().numpy().tolist()\n",
        "\n",
        "total = train_pred + test_pred\n",
        "plt.figure()\n",
        "plt.plot(np.ones(100)*len(train_pred), np.linspace(0,1,100), '--', linewidth=0.6)\n",
        "plt.plot(data_aapl, '--')\n",
        "plt.plot(total, 'b--')\n",
        "plt.legend(['train_boundary', 'actual', 'prediction'])\n",
        "plt.show()"
      ],
      "metadata": {
        "colab": {
          "base_uri": "https://localhost:8080/",
          "height": 430
        },
        "id": "gUVa55dX0AMD",
        "outputId": "1b8eb6fa-5868-40c0-98e0-081d0fc40850"
      },
      "execution_count": null,
      "outputs": [
        {
          "output_type": "display_data",
          "data": {
            "text/plain": [
              "<Figure size 640x480 with 1 Axes>"
            ],
            "image/png": "[encoded data removed]"
          },
          "metadata": {}
        }
      ]
    },
    {
      "cell_type": "markdown",
      "source": [
        "# **두번째 RNN 모델**"
      ],
      "metadata": {
        "id": "6-lhYQ5t3Ry5"
      }
    },
    {
      "cell_type": "markdown",
      "source": [
        "**데이터 전처리**\n",
        "\n",
        "train용 : 2019 ~ 2022년도 데이터  \n",
        "test용 : 2023 ~ 2024년도 데이터\n",
        "\n",
        "예측을 위해 학습할 data 수 : 15"
      ],
      "metadata": {
        "id": "pqgHTtN-3ZP_"
      }
    },
    {
      "cell_type": "code",
      "source": [
        "from sklearn.preprocessing import MinMaxScaler\n",
        "\n",
        "data_aapl = df_aapl.values\n",
        "scaler = MinMaxScaler(feature_range=(0,1))\n",
        "data_aapl = scaler.fit_transform(data_aapl)\n",
        "\n",
        "train_ratio = 0.8\n",
        "split = int(train_ratio*len(data_aapl))\n",
        "aapl_train = data_aapl[:split, :]\n",
        "aapl_test = data_aapl[split:, :]\n",
        "\n",
        "print(aapl_train.shape)\n",
        "print(aapl_test.shape)"
      ],
      "metadata": {
        "colab": {
          "base_uri": "https://localhost:8080/"
        },
        "id": "eYdsfks43RZ5",
        "outputId": "a8cc2507-84a9-4742-bb28-c387e4c5f3c4"
      },
      "execution_count": null,
      "outputs": [
        {
          "output_type": "stream",
          "name": "stdout",
          "text": [
            "(1006, 1)\n",
            "(252, 1)\n"
          ]
        }
      ]
    },
    {
      "cell_type": "code",
      "source": [
        "sequence_length = 15\n",
        "\n",
        "x_train, y_train = [], []\n",
        "for i in range(sequence_length, len(aapl_train)) :\n",
        "  x_train.append(aapl_train[i-sequence_length:i,0])\n",
        "  y_train.append(aapl_train[i,0])\n",
        "\n",
        "x_test, y_test = [], []\n",
        "for i in range(sequence_length, len(aapl_test)) :\n",
        "  x_test.append(aapl_test[i-sequence_length:i,0])\n",
        "  y_test.append(aapl_test[i,0])\n",
        "\n",
        "x_train = np.array(x_train)\n",
        "x_train = np.reshape(x_train, (x_train.shape[0], x_train.shape[1],1))\n",
        "x_train = torch.FloatTensor(x_train)\n",
        "y_train = np.array(y_train)\n",
        "y_train = np.reshape(y_train, (y_train.shape[0],1))\n",
        "y_train = torch.FloatTensor(y_train)\n",
        "\n",
        "x_test = np.array(x_test)\n",
        "x_test = np.reshape(x_test, (x_test.shape[0], x_test.shape[1],1))\n",
        "x_test = torch.FloatTensor(x_test)\n",
        "y_test = np.array(y_test)\n",
        "y_test = np.reshape(y_test, (y_test.shape[0],1))\n",
        "y_test = torch.FloatTensor(y_test)\n",
        "\n",
        "print(x_train.shape, y_train.shape, x_test.shape, y_test.shape)"
      ],
      "metadata": {
        "colab": {
          "base_uri": "https://localhost:8080/"
        },
        "id": "KryWS9xs3iSd",
        "outputId": "c0aa3ffb-ce30-4b46-cfb9-0f59053694db"
      },
      "execution_count": null,
      "outputs": [
        {
          "output_type": "stream",
          "name": "stdout",
          "text": [
            "torch.Size([991, 15, 1]) torch.Size([991, 1]) torch.Size([237, 15, 1]) torch.Size([237, 1])\n"
          ]
        }
      ]
    },
    {
      "cell_type": "markdown",
      "source": [
        "**데이터를 배치화하기**"
      ],
      "metadata": {
        "id": "UJQXEH7u3qAX"
      }
    },
    {
      "cell_type": "code",
      "source": [
        "batch_size = 32\n",
        "\n",
        "train_dataset = torch.utils.data.TensorDataset(x_train, y_train)\n",
        "test_dataset = torch.utils.data.TensorDataset(x_test, y_test)\n",
        "\n",
        "train_loader = DataLoader(dataset = train_dataset, batch_size = batch_size, shuffle=False)\n",
        "test_loader = DataLoader(dataset = test_dataset, batch_size = batch_size, shuffle=False)"
      ],
      "metadata": {
        "id": "jbsIO42d3prg"
      },
      "execution_count": null,
      "outputs": []
    },
    {
      "cell_type": "markdown",
      "source": [
        "**Model 생성**\n",
        "\n",
        "-- Hidden layer 수 : 3개\n",
        "\n",
        "-- 활성화 함수 : Sigmoid\n",
        "\n",
        "\n",
        "-- Optimization 기법 : Adam"
      ],
      "metadata": {
        "id": "lxwkET7o3vwj"
      }
    },
    {
      "cell_type": "code",
      "source": [
        "class RNN(nn.Module) :\n",
        "  def __init__(self, input_size, hidden_size, sequence_length, num_layers, device) :\n",
        "    super(RNN, self).__init__()\n",
        "    self.input_size = input_size\n",
        "    self.hidden_size = hidden_size\n",
        "    self.sequence_length = sequence_length\n",
        "    self.num_layers = num_layers\n",
        "    self.device = device\n",
        "    self.rnn = nn.RNN(input_size, hidden_size, num_layers, batch_first = True)\n",
        "    self.fc = nn.Sequential(nn.Linear(hidden_size*sequence_length,1), nn.Sigmoid())\n",
        "\n",
        "  def forward(self, x) :\n",
        "    h0 = torch.zeros(self.num_layers, x.size()[0], self.hidden_size).to(self.device)\n",
        "    out, _ = self.rnn(x,h0)\n",
        "    out = out.reshape(out.shape[0],-1)\n",
        "    out = self.fc(out)\n",
        "\n",
        "    return out"
      ],
      "metadata": {
        "id": "0GFDkrps3wla"
      },
      "execution_count": null,
      "outputs": []
    },
    {
      "cell_type": "code",
      "source": [
        "# 파라미터 정의 -> input_size 1로 설정 / Hidden layer 수는 2으로 설정 / Hidden layer node 수는 3으로 설정\n",
        "input_size = 1\n",
        "num_layers = 2\n",
        "hidden_size = 3\n",
        "\n",
        "model = RNN(input_size=input_size,hidden_size = hidden_size,sequence_length = sequence_length,num_layers = num_layers, device = device).to(device)\n",
        "model"
      ],
      "metadata": {
        "colab": {
          "base_uri": "https://localhost:8080/"
        },
        "id": "rnP06cYV31ls",
        "outputId": "93207a97-ceb7-45e3-d0f3-8cf103237fef"
      },
      "execution_count": null,
      "outputs": [
        {
          "output_type": "execute_result",
          "data": {
            "text/plain": [
              "RNN(\n",
              "  (rnn): RNN(1, 3, num_layers=2, batch_first=True)\n",
              "  (fc): Sequential(\n",
              "    (0): Linear(in_features=45, out_features=1, bias=True)\n",
              "    (1): Sigmoid()\n",
              "  )\n",
              ")"
            ]
          },
          "metadata": {},
          "execution_count": 44
        }
      ]
    },
    {
      "cell_type": "code",
      "source": [
        "# 파라미터 정의 -> 반복횟수 200으로 설정 / learning_rate는 0.01로 설정\n",
        "\n",
        "num_epochs = 200\n",
        "learning_rate = 0.01\n",
        "\n",
        "# 손실함수, 최적화기법 정의\n",
        "criterion = nn.MSELoss()\n",
        "optimizer = torch.optim.Adam(model.parameters(), lr = learning_rate)"
      ],
      "metadata": {
        "id": "jy7bd6O_35v4"
      },
      "execution_count": null,
      "outputs": []
    },
    {
      "cell_type": "markdown",
      "source": [
        "**Train 과정**"
      ],
      "metadata": {
        "id": "y0GMP42c4AQm"
      }
    },
    {
      "cell_type": "code",
      "source": [
        "loss_list = []\n",
        "for epoch_num in range(num_epochs) :\n",
        "  average_cost = 0\n",
        "\n",
        "  for batch_idx, (x_data, y_label) in enumerate(train_loader) :\n",
        "    num_of_mini_batch = len(train_loader)\n",
        "    x_data = x_data.to(device)\n",
        "    label = y_label.to(device)\n",
        "\n",
        "    optimizer.zero_grad()\n",
        "    y_predict = model(x_data)\n",
        "    loss = criterion(y_predict, label)\n",
        "    loss.backward()\n",
        "    optimizer.step()\n",
        "\n",
        "    average_cost = average_cost + (loss.item()/num_of_mini_batch)\n",
        "    loss_list.append(loss)\n",
        "\n",
        "  print(\"Epoch {} Loss {:.5f}\".format((epoch_num+1), average_cost))"
      ],
      "metadata": {
        "colab": {
          "base_uri": "https://localhost:8080/"
        },
        "id": "mYP4hlgw39EL",
        "outputId": "a382b5a5-f562-4d98-a508-62d68ddda426"
      },
      "execution_count": null,
      "outputs": [
        {
          "output_type": "stream",
          "name": "stdout",
          "text": [
            "Epoch 1 Loss 0.09861\n",
            "Epoch 2 Loss 0.19057\n",
            "Epoch 3 Loss 0.08312\n",
            "Epoch 4 Loss 0.07361\n",
            "Epoch 5 Loss 0.04716\n",
            "Epoch 6 Loss 0.02246\n",
            "Epoch 7 Loss 0.00620\n",
            "Epoch 8 Loss 0.00551\n",
            "Epoch 9 Loss 0.00437\n",
            "Epoch 10 Loss 0.00366\n",
            "Epoch 11 Loss 0.00319\n",
            "Epoch 12 Loss 0.00325\n",
            "Epoch 13 Loss 0.00295\n",
            "Epoch 14 Loss 0.00317\n",
            "Epoch 15 Loss 0.00299\n",
            "Epoch 16 Loss 0.00317\n",
            "Epoch 17 Loss 0.00308\n",
            "Epoch 18 Loss 0.00317\n",
            "Epoch 19 Loss 0.00312\n",
            "Epoch 20 Loss 0.00314\n",
            "Epoch 21 Loss 0.00310\n",
            "Epoch 22 Loss 0.00308\n",
            "Epoch 23 Loss 0.00305\n",
            "Epoch 24 Loss 0.00301\n",
            "Epoch 25 Loss 0.00298\n",
            "Epoch 26 Loss 0.00296\n",
            "Epoch 27 Loss 0.00294\n",
            "Epoch 28 Loss 0.00293\n",
            "Epoch 29 Loss 0.00292\n",
            "Epoch 30 Loss 0.00290\n",
            "Epoch 31 Loss 0.00287\n",
            "Epoch 32 Loss 0.00286\n",
            "Epoch 33 Loss 0.00287\n",
            "Epoch 34 Loss 0.00286\n",
            "Epoch 35 Loss 0.00284\n",
            "Epoch 36 Loss 0.00282\n",
            "Epoch 37 Loss 0.00277\n",
            "Epoch 38 Loss 0.00273\n",
            "Epoch 39 Loss 0.00267\n",
            "Epoch 40 Loss 0.00259\n",
            "Epoch 41 Loss 0.00250\n",
            "Epoch 42 Loss 0.00236\n",
            "Epoch 43 Loss 0.00220\n",
            "Epoch 44 Loss 0.00194\n",
            "Epoch 45 Loss 0.00169\n",
            "Epoch 46 Loss 0.00134\n",
            "Epoch 47 Loss 0.00108\n",
            "Epoch 48 Loss 0.00100\n",
            "Epoch 49 Loss 0.00121\n",
            "Epoch 50 Loss 0.00129\n",
            "Epoch 51 Loss 0.00109\n",
            "Epoch 52 Loss 0.00093\n",
            "Epoch 53 Loss 0.00109\n",
            "Epoch 54 Loss 0.00137\n",
            "Epoch 55 Loss 0.00119\n",
            "Epoch 56 Loss 0.00093\n",
            "Epoch 57 Loss 0.00090\n",
            "Epoch 58 Loss 0.00176\n",
            "Epoch 59 Loss 0.00129\n",
            "Epoch 60 Loss 0.00109\n",
            "Epoch 61 Loss 0.00181\n",
            "Epoch 62 Loss 0.00193\n",
            "Epoch 63 Loss 0.00162\n",
            "Epoch 64 Loss 0.00126\n",
            "Epoch 65 Loss 0.00357\n",
            "Epoch 66 Loss 0.00427\n",
            "Epoch 67 Loss 0.00254\n",
            "Epoch 68 Loss 0.00605\n",
            "Epoch 69 Loss 0.00256\n",
            "Epoch 70 Loss 0.00696\n",
            "Epoch 71 Loss 0.00098\n",
            "Epoch 72 Loss 0.00082\n",
            "Epoch 73 Loss 0.00122\n",
            "Epoch 74 Loss 0.00107\n",
            "Epoch 75 Loss 0.00071\n",
            "Epoch 76 Loss 0.00120\n",
            "Epoch 77 Loss 0.00145\n",
            "Epoch 78 Loss 0.00137\n",
            "Epoch 79 Loss 0.00174\n",
            "Epoch 80 Loss 0.01009\n",
            "Epoch 81 Loss 0.00212\n",
            "Epoch 82 Loss 0.00117\n",
            "Epoch 83 Loss 0.00139\n",
            "Epoch 84 Loss 0.00456\n",
            "Epoch 85 Loss 0.00144\n",
            "Epoch 86 Loss 0.00068\n",
            "Epoch 87 Loss 0.00087\n",
            "Epoch 88 Loss 0.00114\n",
            "Epoch 89 Loss 0.00152\n",
            "Epoch 90 Loss 0.00156\n",
            "Epoch 91 Loss 0.00899\n",
            "Epoch 92 Loss 0.00216\n",
            "Epoch 93 Loss 0.00101\n",
            "Epoch 94 Loss 0.00150\n",
            "Epoch 95 Loss 0.00162\n",
            "Epoch 96 Loss 0.00196\n",
            "Epoch 97 Loss 0.00118\n",
            "Epoch 98 Loss 0.00208\n",
            "Epoch 99 Loss 0.00703\n",
            "Epoch 100 Loss 0.00084\n",
            "Epoch 101 Loss 0.00096\n",
            "Epoch 102 Loss 0.00084\n",
            "Epoch 103 Loss 0.00085\n",
            "Epoch 104 Loss 0.00190\n",
            "Epoch 105 Loss 0.00099\n",
            "Epoch 106 Loss 0.00263\n",
            "Epoch 107 Loss 0.00659\n",
            "Epoch 108 Loss 0.00136\n",
            "Epoch 109 Loss 0.00380\n",
            "Epoch 110 Loss 0.00434\n",
            "Epoch 111 Loss 0.00334\n",
            "Epoch 112 Loss 0.00551\n",
            "Epoch 113 Loss 0.00516\n",
            "Epoch 114 Loss 0.01514\n",
            "Epoch 115 Loss 0.01205\n",
            "Epoch 116 Loss 0.00403\n",
            "Epoch 117 Loss 0.00333\n",
            "Epoch 118 Loss 0.02071\n",
            "Epoch 119 Loss 0.00324\n",
            "Epoch 120 Loss 0.00306\n",
            "Epoch 121 Loss 0.00439\n",
            "Epoch 122 Loss 0.00335\n",
            "Epoch 123 Loss 0.00129\n",
            "Epoch 124 Loss 0.00090\n",
            "Epoch 125 Loss 0.00153\n",
            "Epoch 126 Loss 0.00116\n",
            "Epoch 127 Loss 0.00121\n",
            "Epoch 128 Loss 0.00151\n",
            "Epoch 129 Loss 0.00146\n",
            "Epoch 130 Loss 0.00158\n",
            "Epoch 131 Loss 0.00176\n",
            "Epoch 132 Loss 0.00174\n",
            "Epoch 133 Loss 0.00183\n",
            "Epoch 134 Loss 0.00196\n",
            "Epoch 135 Loss 0.00195\n",
            "Epoch 136 Loss 0.00203\n",
            "Epoch 137 Loss 0.00212\n",
            "Epoch 138 Loss 0.00213\n",
            "Epoch 139 Loss 0.00218\n",
            "Epoch 140 Loss 0.00224\n",
            "Epoch 141 Loss 0.00225\n",
            "Epoch 142 Loss 0.00221\n",
            "Epoch 143 Loss 0.00211\n",
            "Epoch 144 Loss 0.00194\n",
            "Epoch 145 Loss 0.00189\n",
            "Epoch 146 Loss 0.00226\n",
            "Epoch 147 Loss 0.00249\n",
            "Epoch 148 Loss 0.00160\n",
            "Epoch 149 Loss 0.00067\n",
            "Epoch 150 Loss 0.00071\n",
            "Epoch 151 Loss 0.00220\n",
            "Epoch 152 Loss 0.00221\n",
            "Epoch 153 Loss 0.00119\n",
            "Epoch 154 Loss 0.00141\n",
            "Epoch 155 Loss 0.00304\n",
            "Epoch 156 Loss 0.00241\n",
            "Epoch 157 Loss 0.00151\n",
            "Epoch 158 Loss 0.00115\n",
            "Epoch 159 Loss 0.00265\n",
            "Epoch 160 Loss 0.00195\n",
            "Epoch 161 Loss 0.00093\n",
            "Epoch 162 Loss 0.00070\n",
            "Epoch 163 Loss 0.00246\n",
            "Epoch 164 Loss 0.00221\n",
            "Epoch 165 Loss 0.00117\n",
            "Epoch 166 Loss 0.00096\n",
            "Epoch 167 Loss 0.00279\n",
            "Epoch 168 Loss 0.00248\n",
            "Epoch 169 Loss 0.00124\n",
            "Epoch 170 Loss 0.00136\n",
            "Epoch 171 Loss 0.00410\n",
            "Epoch 172 Loss 0.00238\n",
            "Epoch 173 Loss 0.00243\n",
            "Epoch 174 Loss 0.00154\n",
            "Epoch 175 Loss 0.00110\n",
            "Epoch 176 Loss 0.00091\n",
            "Epoch 177 Loss 0.00136\n",
            "Epoch 178 Loss 0.00117\n",
            "Epoch 179 Loss 0.00065\n",
            "Epoch 180 Loss 0.00043\n",
            "Epoch 181 Loss 0.00083\n",
            "Epoch 182 Loss 0.00078\n",
            "Epoch 183 Loss 0.00050\n",
            "Epoch 184 Loss 0.00048\n",
            "Epoch 185 Loss 0.00060\n",
            "Epoch 186 Loss 0.00061\n",
            "Epoch 187 Loss 0.00041\n",
            "Epoch 188 Loss 0.00052\n",
            "Epoch 189 Loss 0.00090\n",
            "Epoch 190 Loss 0.00082\n",
            "Epoch 191 Loss 0.00080\n",
            "Epoch 192 Loss 0.00097\n",
            "Epoch 193 Loss 0.00094\n",
            "Epoch 194 Loss 0.00077\n",
            "Epoch 195 Loss 0.00061\n",
            "Epoch 196 Loss 0.00056\n",
            "Epoch 197 Loss 0.00052\n",
            "Epoch 198 Loss 0.00041\n",
            "Epoch 199 Loss 0.00055\n",
            "Epoch 200 Loss 0.00102\n"
          ]
        }
      ]
    },
    {
      "cell_type": "markdown",
      "source": [
        "**Validation 과정**"
      ],
      "metadata": {
        "id": "ZGvHuvRv4Fng"
      }
    },
    {
      "cell_type": "code",
      "source": [
        "with torch.no_grad() :\n",
        "  num_total_data = 0\n",
        "  for batch_idx, (data, labels) in enumerate(test_loader) :\n",
        "\n",
        "    num_of_mini_batch = len(test_loader)\n",
        "\n",
        "    data = data.to(device)\n",
        "    labels = labels.to(device)\n",
        "    outputs = model(data)\n",
        "    loss = criterion(outputs, labels)\n",
        "\n",
        "    average_cost = average_cost + (loss.item()/num_of_mini_batch)\n",
        "    loss_list.append(loss)\n",
        "\n",
        "print(\"Test Loss {:.5f}\".format(average_cost))"
      ],
      "metadata": {
        "colab": {
          "base_uri": "https://localhost:8080/"
        },
        "id": "RUqQ4GNp4FSI",
        "outputId": "3bbcf02d-de92-4a32-ff6a-49de644fb8c5"
      },
      "execution_count": null,
      "outputs": [
        {
          "output_type": "stream",
          "name": "stdout",
          "text": [
            "Test Loss 0.00312\n"
          ]
        }
      ]
    },
    {
      "cell_type": "markdown",
      "source": [
        "**예측/실제 데이터 비교**"
      ],
      "metadata": {
        "id": "dIyNgwsh4J5s"
      }
    },
    {
      "cell_type": "code",
      "source": [
        "with torch.no_grad() :\n",
        "  train_pred= []\n",
        "  test_pred = []\n",
        "\n",
        "  for batch_idx, (x_data, y_label) in enumerate(train_loader) :\n",
        "    x_data = x_data.to(device)\n",
        "    label = y_label.to(device)\n",
        "    y_predict = model(x_data)\n",
        "    train_pred += y_predict.cpu().numpy().tolist()\n",
        "\n",
        "  for batch_idx, (x_data, y_label) in enumerate(test_loader) :\n",
        "    x_data = x_data.to(device)\n",
        "    label = y_label.to(device)\n",
        "    y_predict = model(x_data)\n",
        "    test_pred += y_predict.cpu().numpy().tolist()\n",
        "\n",
        "total = train_pred + test_pred\n",
        "plt.figure()\n",
        "plt.plot(np.ones(100)*len(train_pred), np.linspace(0,1,100), '--', linewidth=0.6)\n",
        "plt.plot(data_aapl, '--')\n",
        "plt.plot(total, 'b--')\n",
        "plt.legend(['train_boundary', 'actual', 'prediction'])\n",
        "plt.show()"
      ],
      "metadata": {
        "colab": {
          "base_uri": "https://localhost:8080/",
          "height": 430
        },
        "id": "i2Vgz3Aw4MLT",
        "outputId": "fcacb447-43d0-434f-d428-91fe6ccbccb2"
      },
      "execution_count": null,
      "outputs": [
        {
          "output_type": "display_data",
          "data": {
            "text/plain": [
              "<Figure size 640x480 with 1 Axes>"
            ],
            "image/png": "[encoded data removed]"
          },
          "metadata": {}
        }
      ]
    }
  ]
}